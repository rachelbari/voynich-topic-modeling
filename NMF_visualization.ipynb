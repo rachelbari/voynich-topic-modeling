{
 "cells": [
  {
   "cell_type": "markdown",
   "metadata": {},
   "source": [
    "# `NMF visualization`\n",
    "\n",
    "Modified from the pyLDAvis scikit-learn example notebook."
   ]
  },
  {
   "cell_type": "code",
   "execution_count": 1,
   "metadata": {
    "scrolled": true
   },
   "outputs": [],
   "source": [
    "import re, io, os\n",
    "import pickle\n",
    "import numpy as np\n",
    "import pandas as pd\n",
    "from collections import defaultdict\n",
    "import urllib.request\n",
    "import random\n",
    "random.seed(13)"
   ]
  },
  {
   "cell_type": "code",
   "execution_count": 2,
   "metadata": {},
   "outputs": [],
   "source": [
    "from sklearn.feature_extraction.text import CountVectorizer, TfidfVectorizer\n",
    "from sklearn.decomposition import NMF\n",
    "from sklearn.manifold import TSNE\n",
    "\n",
    "import matplotlib.pyplot as plt\n",
    "import matplotlib.patches as mpatches\n",
    "import matplotlib\n",
    "%matplotlib inline\n",
    "import seaborn as sns"
   ]
  },
  {
   "cell_type": "markdown",
   "metadata": {},
   "source": [
    "## Helper Functions"
   ]
  },
  {
   "cell_type": "code",
   "execution_count": 3,
   "metadata": {},
   "outputs": [],
   "source": [
    "def tokenize(data):\n",
    "    index = defaultdict(str)\n",
    "    \n",
    "    with urllib.request.urlopen(data) as file:\n",
    "        for line in file.read().decode('latin-1').splitlines():\n",
    "            # pull out takahashi lines\n",
    "            m = re.match(r'^<(f.*?)\\..*;H> +(\\S.*)$', line)\n",
    "            if not m:\n",
    "                continue\n",
    "\n",
    "            transcription = m.group(2)\n",
    "            pg = str(m.group(1))\n",
    "\n",
    "            # ignore entire line if it has a {&NNN} or {&.} code\n",
    "            if re.search(r'\\{&(\\d|\\.)+\\}', transcription):\n",
    "                continue\n",
    "\n",
    "            # remove extraneous chracters ! and %\n",
    "            s = transcription.replace(\"!\", \"\").replace(\"%\", \"\")\n",
    "            \n",
    "            # delete all end of line {comments} (between one and three observed)\n",
    "            # ...with optional line terminator\n",
    "            # allow 0 occurences to remove end-of-line markers (- or =)\n",
    "            s = re.sub(r'([-=]?\\{[^\\{\\}]+?\\}){0,3}[-=]?\\s*$', \"\", s)\n",
    "\n",
    "            # delete start of line {comments} (single or double)\n",
    "            s = re.sub(r'^(\\{[^\\{\\}]+?\\}){1,2}', \"\", s)\n",
    "\n",
    "            # simplification: tags preceeded by -= are word breaks\n",
    "            s = re.sub(r'[-=]\\{[^\\{\\}]+?\\}', '.', s)\n",
    "\n",
    "            # these tags are nulls\n",
    "            # plant is a null in one case where it is just {plant}\n",
    "            # otherwise (above) it is a word break\n",
    "            # s = re.sub(r'\\{(fold|crease|blot|&\\w.?|plant)\\}', \"\", s)\n",
    "            # simplification: remaining tags in curly brackets\n",
    "            s = re.sub(r'\\{[^\\{\\}]+?\\}', '', s)\n",
    "\n",
    "            # special case .{\\} is still a word break\n",
    "            s = re.sub(r'\\.\\{\\\\\\}', \".\", s)\n",
    "\n",
    "            # split on word boundaries\n",
    "            # exclude null words ('')\n",
    "            words = [str(w) for w in s.split(\".\") if w]\n",
    "            paragraph = ' '.join(words).lstrip()\n",
    "            \n",
    "            index[pg] += (paragraph)\n",
    "\n",
    "    return index\n"
   ]
  },
  {
   "cell_type": "code",
   "execution_count": 4,
   "metadata": {},
   "outputs": [],
   "source": [
    "def print_top_words(model, feature_names, n_top_words):\n",
    "    for topic_idx, topic in enumerate(model.components_):\n",
    "        print(\"\\nTopic #%d:\" % topic_idx)\n",
    "        print(\" \".join([feature_names[i]\n",
    "                        for i in topic.argsort()[:-n_top_words - 1:-1]]))\n",
    "    print()"
   ]
  },
  {
   "cell_type": "markdown",
   "metadata": {},
   "source": [
    "## Load Voynich Data\n",
    "\n",
    "Load the Pickle files produced by vms_vectorize.py"
   ]
  },
  {
   "cell_type": "code",
   "execution_count": 5,
   "metadata": {},
   "outputs": [
    {
     "name": "stderr",
     "output_type": "stream",
     "text": [
      "D:\\Miniconda\\envs\\ling\\lib\\site-packages\\sklearn\\base.py:306: UserWarning: Trying to unpickle estimator TfidfTransformer from version 0.20.1 when using version 0.21.3. This might lead to breaking code or invalid results. Use at your own risk.\n",
      "  UserWarning)\n",
      "D:\\Miniconda\\envs\\ling\\lib\\site-packages\\sklearn\\base.py:306: UserWarning: Trying to unpickle estimator TfidfVectorizer from version 0.20.1 when using version 0.21.3. This might lead to breaking code or invalid results. Use at your own risk.\n",
      "  UserWarning)\n",
      "D:\\Miniconda\\envs\\ling\\lib\\site-packages\\sklearn\\base.py:306: UserWarning: Trying to unpickle estimator CountVectorizer from version 0.20.1 when using version 0.21.3. This might lead to breaking code or invalid results. Use at your own risk.\n",
      "  UserWarning)\n"
     ]
    }
   ],
   "source": [
    "models_path = \"./models\"\n",
    "\n",
    "# load in the pickle files of stored models\n",
    "with open(\"{}/tfidf_vectorizer.pk\".format(models_path), \"rb\") as f:\n",
    "    tfidf_vectorizer = pickle.load(f)\n",
    "with open(\"{}/vms_tf.pk\".format(models_path), \"rb\") as f:\n",
    "    vms_tf = pickle.load(f)\n",
    "with open(\"{}/vms_mapping.pk\".format(models_path), \"rb\") as f:\n",
    "    vms_mapping = pickle.load(f)\n",
    "with open(\"{}/tf_vectorizer.pk\".format(models_path), \"rb\") as f:\n",
    "    tf_vectorizer = pickle.load(f)\n",
    "with open(\"{}/vms_tfidf.pk\".format(models_path), \"rb\") as f:\n",
    "    vms_tfidf = pickle.load(f)\n",
    "\n",
    "index = tokenize(\"https://raw.githubusercontent.com/rachelbari/voynich-topic-modeling/master/data/text16e6.evt\")\n",
    "documents = [index[key] for key in index.keys()]\n"
   ]
  },
  {
   "cell_type": "markdown",
   "metadata": {},
   "source": [
    "#### Make a dict containing information about each page of the VMS"
   ]
  },
  {
   "cell_type": "code",
   "execution_count": 6,
   "metadata": {},
   "outputs": [],
   "source": [
    "# a class for a single folio\n",
    "# currently just contains state variables\n",
    "# will eventually have a show() method to display the page\n",
    "class Folio:\n",
    "    def __init__(self, name, quire, topic=\"?\", hand=0, lang=\"?\"):\n",
    "        self.name = name\n",
    "        self.quire = int(quire)\n",
    "        self.topic = topic\n",
    "        self.hand = int(hand)\n",
    "        self.lang = lang"
   ]
  },
  {
   "cell_type": "code",
   "execution_count": 7,
   "metadata": {},
   "outputs": [
    {
     "name": "stdout",
     "output_type": "stream",
     "text": [
      "     folio               topic  hand language  quire\n",
      "0      f1r           botanical     1        a      1\n",
      "1      f1v           botanical     1        a      1\n",
      "2      f2r           botanical     1        a      1\n",
      "3      f2v           botanical     1        a      1\n",
      "4      f3r           botanical     1        a      1\n",
      "..     ...                 ...   ...      ...    ...\n",
      "220  f114r  starred paragraphs     3        b     18\n",
      "221  f114v  starred paragraphs     3        b     18\n",
      "222  f115r  starred paragraphs     3        b     18\n",
      "223  f115v  starred paragraphs     3        b     18\n",
      "224  f116r  starred paragraphs     3        b     18\n",
      "\n",
      "[225 rows x 5 columns]\n",
      "<class 'pandas.core.frame.DataFrame'>\n"
     ]
    }
   ],
   "source": [
    "lfd_map = pd.read_csv(\"./lfd_map.csv\")\n",
    "print(lfd_map)\n",
    "vms = {}\n",
    "for row in lfd_map.iterrows():\n",
    "    folio = Folio(row[1].folio, row[1].quire, row[1].topic, row[1].hand, row[1].language)\n",
    "    vms[folio.name] = folio\n",
    "\n",
    "print(type(lfd_map))"
   ]
  },
  {
   "cell_type": "markdown",
   "metadata": {},
   "source": [
    "## Fit NMF models"
   ]
  },
  {
   "cell_type": "code",
   "execution_count": 14,
   "metadata": {},
   "outputs": [
    {
     "name": "stdout",
     "output_type": "stream",
     "text": [
      "\n",
      "Topic #0:\n",
      "qokain shedy qokeedy chedy qokeey ol qol qokal shey qokaiin\n",
      "\n",
      "Topic #1:\n",
      "daiin chol chor chy shol cthy sho shor dain cthor\n",
      "\n",
      "Topic #2:\n",
      "aiin or ar chdy okaiin okar qokaiin chedy qokar otaiin\n",
      "\n",
      "Topic #3:\n",
      "okeol ol cheol qokeol or daiin cheor chol okeey ckhey\n",
      "\n",
      "Topic #4:\n",
      "qokedy shedy chedy okedy otedy ol qotedy dar qokeedy ytedy\n",
      "\n",
      "Topic #5:\n",
      "al ar oteos oteey aiin oteody dal air dar okeey\n",
      "\n"
     ]
    }
   ],
   "source": [
    "# for TF\n",
    "#nmf_tf = LatentDirichletAllocation(n_topics=num_topics, random_state=0, max_iter=8)#, learning_method=\"online\", learning_offset=20.)\n",
    "#nmf_tf.fit(vms_tf)\n",
    "# for TFIDF\n",
    "num_topics = 6\n",
    "\n",
    "# reset the topic labels\n",
    "for key in vms.keys():\n",
    "    vms[key].nmf_topic = 0\n",
    "\n",
    "nmf_tfidf = NMF(n_components=num_topics, random_state=1, alpha=.1, l1_ratio=.5, init='nndsvd')\n",
    "nmf_tfidf.fit(vms_tfidf)\n",
    "\n",
    "tfidf_feature_names = tfidf_vectorizer.get_feature_names()\n",
    "print_top_words(nmf_tfidf, tfidf_feature_names, 10)\n",
    "\n",
    "nmf_embedding = nmf_tfidf.transform(vms_tfidf)\n",
    "nmf_embedding = (nmf_embedding - nmf_embedding.mean(axis=0))/nmf_embedding.std(axis=0)\n",
    "\n",
    "# assign each page to its nearest topic, and log that in the vms dict\n",
    "i = 0\n",
    "topic_col = []\n",
    "for topic in nmf_embedding.argmax(axis=1):\n",
    "    name = lfd_map['folio'].values[i]\n",
    "    vms[name].nmf_topic = topic\n",
    "    topic_col.append(topic)\n",
    "    i += 1\n",
    "lfd_map = lfd_map.assign(topic_nmf = topic_col)\n",
    "\n",
    "lfd_map.to_csv(\"./out/nmf_\"+str(num_topics)+\"_map.csv\")"
   ]
  },
  {
   "cell_type": "markdown",
   "metadata": {},
   "source": [
    "## Making sense of the data\n",
    "\n",
    "Using techniques from https://www.kaggle.com/xdsarkar/nips-papers-visualized-with-nmf-and-t-sne\n",
    "\n",
    "First, we transform the tfidf-matrix into an nmf-embedding, and look at which folios are most closely associated with each topic"
   ]
  },
  {
   "cell_type": "code",
   "execution_count": 15,
   "metadata": {
    "scrolled": false
   },
   "outputs": [
    {
     "name": "stdout",
     "output_type": "stream",
     "text": [
      "[[156 147 149 214 146 213 152 145 144 161 155 215 148 203 153 158 224 159\n",
      "  202 154]\n",
      " [108   0  40   9  19  50  53  15  35  26  34  17  37   6  95  61  80  18\n",
      "   27  90]\n",
      " [ 77 184 211 219 186 209 210 169  62 187 220  63 204 207  76 106 107 167\n",
      "  168  75]\n",
      " [ 98 180 181 194 174 173  31 198 177 190 195 172 192 193 197 200 199 201\n",
      "  175 196]\n",
      " [ 83 146 144  82 156  65  49 147 160  78 149  48 157  58 151 212 150  89\n",
      "  162 163]\n",
      " [129 206 133 214 112 216 140 219 141 137 118 138 136 142 130 128 131 135\n",
      "  134 132]]\n",
      "\n",
      "Topic 0:\n",
      "(0) f80r: hand 2, language b, balneological\n",
      "(0) f103r: hand 3, language b, starred paragraphs\n",
      "(0) f82v: hand 2, language b, balneological\n",
      "(0) f116r: hand 3, language b, starred paragraphs\n",
      "(0) f82r: hand 2, language b, balneological\n",
      "(0) f79v: hand 2, language b, balneological\n",
      "(0) f103v: hand 3, language b, starred paragraphs\n",
      "(0) f77r: hand 2, language b, balneological\n",
      "(0) f111v: hand 3, language b, starred paragraphs\n",
      "(0) f80v: hand 2, language b, balneological\n",
      "(0) f83v: hand 2, language b, balneological\n",
      "(0) f75r: hand 2, language b, balneological\n",
      "(0) f75v: hand 2, language b, balneological\n",
      "(0) f79r: hand 2, language b, balneological\n",
      "(0) f108v: hand 3, language b, starred paragraphs\n",
      "(0) f76r: hand 2, language b, balneological\n",
      "(0) f111r: hand 3, language b, starred paragraphs\n",
      "(4) f77v: hand 2, language b, balneological\n",
      "(4) f76v: hand 2, language b, balneological\n",
      "(4) f81r: hand 2, language b, balneological\n",
      "\n",
      "Topic 1:\n",
      "(1) f47r: hand 1, language a, botanical\n",
      "(1) f15v: hand 1, language a, botanical\n",
      "(1) f10r: hand 1, language a, botanical\n",
      "(1) f42r: hand 1, language a, botanical\n",
      "(1) f32v: hand 1, language a, botanical\n",
      "(1) f49v: hand 1, language a, botanical\n",
      "(1) f4r: hand 1, language a, botanical\n",
      "(1) f20v: hand 1, language a, botanical\n",
      "(1) f9v: hand 1, language a, botanical\n",
      "(1) f19r: hand 1, language a, botanical\n",
      "(1) f15r: hand 1, language a, botanical\n",
      "(1) f19v: hand 1, language a, botanical\n",
      "(1) f8v: hand 1, language a, botanical\n",
      "(1) f28v: hand 1, language a, botanical\n",
      "(1) f27r: hand 1, language a, botanical\n",
      "(1) f10v: hand 1, language a, botanical\n",
      "(1) f5v: hand 1, language a, botanical\n",
      "(1) f22r: hand 1, language a, botanical\n",
      "(1) f1r: hand 1, language a, botanical\n",
      "(1) f56r: hand 1, language a, botanical\n",
      "\n",
      "Topic 2:\n",
      "(2) f39v: hand 2, language b, botanical\n",
      "(2) f86v5: hand 2, language b, rose\n",
      "(2) f86v6: hand 2, language b, rose\n",
      "(2) f55v: hand 2, language b, botanical\n",
      "(2) f55r: hand 2, language b, botanical\n",
      "(2) f40r: hand 2, language b, botanical\n",
      "(2) f105v: hand 3, language b, starred paragraphs\n",
      "(2) f104r: hand 3, language b, starred paragraphs\n",
      "(2) f33v: hand 2, language b, botanical\n",
      "(2) f114r: hand 3, language b, starred paragraphs\n",
      "(2) f95r2: hand 3, language b, botanical\n",
      "(2) f33r: hand 2, language b, botanical\n",
      "(2) f86v3: hand 2, language b, rose\n",
      "(2) f107r: hand 3, language b, starred paragraphs\n",
      "(2) f106v: hand 3, language b, starred paragraphs\n",
      "(2) f95r1: hand 3, language b, botanical\n",
      "(5) f113v: hand 3, language b, starred paragraphs\n",
      "(2) f107v: hand 3, language b, starred paragraphs\n",
      "(2) f94r: hand 3, language b, botanical\n",
      "(2) f40v: hand 2, language b, botanical\n",
      "\n",
      "Topic 3:\n",
      "(3) f101r1: hand 1, language a, recipies\n",
      "(3) f89r2: hand 1, language a, recipies\n",
      "(3) f102v1: hand 1, language a, recipies\n",
      "(3) f102r2: hand 1, language a, recipies\n",
      "(3) f102v2: hand 1, language a, recipies\n",
      "(3) f101v2: hand 1, language a, recipies\n",
      "(3) f99v: hand 1, language a, recipies\n",
      "(3) f99r: hand 1, language a, recipies\n",
      "(3) f88r: hand 1, language a, recipies\n",
      "(3) f100v: hand 1, language a, recipies\n",
      "(3) f96r: hand 1, language a, botanical\n",
      "(3) f89v1: hand 1, language a, recipies\n",
      "(3) f102r1: hand 1, language a, recipies\n",
      "(3) f17v: hand 1, language a, botanical\n",
      "(3) f88v: hand 1, language a, recipies\n",
      "(3) f89r1: hand 1, language a, recipies\n",
      "(3) f100r: hand 1, language a, recipies\n",
      "(3) f90v1: hand 1, language a, botanical\n",
      "(3) f90v2: hand 1, language a, botanical\n",
      "(3) f51r: hand 1, language a, botanical\n",
      "\n",
      "Topic 4:\n",
      "(4) f84v: hand 2, language b, balneological\n",
      "(4) f84r: hand 2, language b, balneological\n",
      "(4) f46v: hand 2, language b, botanical\n",
      "(4) f78r: hand 2, language b, balneological\n",
      "(4) f108r: hand 3, language b, starred paragraphs\n",
      "(4) f78v: hand 2, language b, balneological\n",
      "(4) f31r: hand 2, language b, botanical\n",
      "(4) f81v: hand 2, language b, balneological\n",
      "(4) f26r: hand 2, language b, botanical\n",
      "(4) f77v: hand 2, language b, balneological\n",
      "(4) f41r: hand 2, language b, botanical\n",
      "(4) f83r: hand 2, language b, balneological\n",
      "(4) f76v: hand 2, language b, balneological\n",
      "(4) f26v: hand 2, language b, botanical\n",
      "(4) f34v: hand 2, language b, botanical\n",
      "(4) f81r: hand 2, language b, balneological\n",
      "(4) f43r: hand 2, language b, botanical\n",
      "(0) f75r: hand 2, language b, balneological\n",
      "(0) f76r: hand 2, language b, balneological\n",
      "(4) f43v: hand 2, language b, botanical\n",
      "\n",
      "Topic 5:\n",
      "(5) f70v2: hand 4, language b, astrology\n",
      "(5) f71r: hand 4, language b, astrology\n",
      "(5) f71v: hand 4, language b, astrology\n",
      "(5) f70r2: hand 4, language b, astrology\n",
      "(5) f69r: hand 4, language b, astrology\n",
      "(5) f70r1: hand 4, language b, astrology\n",
      "(5) f73r: hand 3, language b, astrology\n",
      "(5) f72r1: hand 4, language b, astrology\n",
      "(5) f72r3: hand 4, language b, astrology\n",
      "(5) f67r1: hand 4, language b, astrology\n",
      "(5) f72r2: hand 4, language b, astrology\n",
      "(5) f72v1: hand 4, language b, astrology\n",
      "(5) f113v: hand 3, language b, starred paragraphs\n",
      "(5) f72v2: hand 4, language b, astrology\n",
      "(5) f112r: hand 3, language b, starred paragraphs\n",
      "(5) f58r: hand 3, language b, unknown\n",
      "(0) f111r: hand 3, language b, starred paragraphs\n",
      "(5) f70v1: hand 4, language b, astrology\n",
      "(5) f105r: hand 3, language b, starred paragraphs\n",
      "(5) f69v: hand 4, language b, astrology\n"
     ]
    }
   ],
   "source": [
    "top_n = 20 #how many pages\n",
    "\n",
    "top_idx = np.argsort(nmf_embedding,axis=0)[-top_n:]\n",
    "\n",
    "print(top_idx.T)\n",
    "\n",
    "# output into a file\n",
    "outfile = open('./out/map_'+str(num_topics)+'_topics_top_'+str(top_n)+'.txt', 'w') \n",
    "\n",
    "count = 0\n",
    "for idxs in top_idx.T: \n",
    "    print(\"\\nTopic {}:\".format(count))\n",
    "    print(\"\\nTopic {}:\".format(count), file=outfile)\n",
    "    for idx in np.flip(idxs): # they're in reverse order\n",
    "        folio = vms_mapping[idx]\n",
    "        # print twice to get both file output and stdout in the notebook\n",
    "        print(\"(\"+str(vms[folio].nmf_topic)+\") \"+folio+\": hand \"+str(vms[folio].hand)+\", language \"+vms[folio].lang+\", \"+vms[folio].topic)\n",
    "        print(\"(\"+str(vms[folio].nmf_topic)+\") \"+folio+\": hand \"+str(vms[folio].hand)+\", language \"+vms[folio].lang+\", \"+vms[folio].topic, file=outfile)\n",
    "    count += 1\n",
    "outfile.close()\n"
   ]
  },
  {
   "cell_type": "markdown",
   "metadata": {},
   "source": [
    "### Visualize the results with t-SNE"
   ]
  },
  {
   "cell_type": "code",
   "execution_count": 19,
   "metadata": {},
   "outputs": [
    {
     "data": {
      "text/plain": [
       "<matplotlib.legend.Legend at 0x24f581a3608>"
      ]
     },
     "execution_count": 19,
     "metadata": {},
     "output_type": "execute_result"
    },
    {
     "data": {
      "image/png": "[encoded data removed]",
      "text/plain": [
       "<Figure size 576x576 with 1 Axes>"
      ]
     },
     "metadata": {
      "needs_background": "light"
     },
     "output_type": "display_data"
    }
   ],
   "source": [
    "# set your colormap here\n",
    "# https://matplotlib.org/3.1.1/gallery/color/colormap_reference.html\n",
    "colormap = \"Dark2\"\n",
    "\n",
    "# make a t-SNE embedding\n",
    "tsne = TSNE()#pass in int random_state for deterministic behavior\n",
    "tsne_embedding = tsne.fit_transform(nmf_embedding)\n",
    "tsne_embedding = pd.DataFrame(tsne_embedding,columns=['x','y'])\n",
    "\n",
    "# get the colors to put in the legend\n",
    "cmap = matplotlib.cm.get_cmap(colormap)\n",
    "color_list = cmap(range(0, num_topics))\n",
    "legend_list, topics = [], []\n",
    "for i in range(num_topics): \n",
    "    legend_list.append(mpatches.Ellipse((0,0), 1, 1, fc=color_list[i]))\n",
    "    topics.append(\"Topic \"+str(i))\n",
    "# now force these colors to be used in the plot\n",
    "tsne_color = []\n",
    "for i in nmf_embedding.argmax(axis=1): tsne_color.append(color_list[i])\n",
    "tsne_embedding = tsne_embedding.assign(color= tsne_color)\n",
    "\n",
    "# plot!\n",
    "fig = plt.figure(figsize=(8,8))\n",
    "ax = plt.gca()\n",
    "ax.axis('off')\n",
    "ax.scatter(x=tsne_embedding['x'], y=tsne_embedding['y'], s=6, c=tsne_embedding['color'])\n",
    "fig.legend(legend_list, topics, loc=(0.1, 0.79))"
   ]
  },
  {
   "cell_type": "code",
   "execution_count": null,
   "metadata": {},
   "outputs": [],
   "source": []
  },
  {
   "cell_type": "code",
   "execution_count": null,
   "metadata": {},
   "outputs": [],
   "source": []
  },
  {
   "cell_type": "code",
   "execution_count": null,
   "metadata": {},
   "outputs": [],
   "source": []
  }
 ],
 "metadata": {
  "kernelspec": {
   "display_name": "Python 3",
   "language": "python",
   "name": "python3"
  },
  "language_info": {
   "codemirror_mode": {
    "name": "ipython",
    "version": 3
   },
   "file_extension": ".py",
   "mimetype": "text/x-python",
   "name": "python",
   "nbconvert_exporter": "python",
   "pygments_lexer": "ipython3",
   "version": "3.7.5"
  }
 },
 "nbformat": 4,
 "nbformat_minor": 1
}

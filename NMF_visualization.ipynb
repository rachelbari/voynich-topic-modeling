{
 "cells": [
  {
   "cell_type": "markdown",
   "metadata": {},
   "source": [
    "# `NMF visualization`\n",
    "\n",
    "Modified from the pyLDAvis scikit-learn example notebook."
   ]
  },
  {
   "cell_type": "code",
   "execution_count": 1,
   "metadata": {
    "scrolled": true
   },
   "outputs": [],
   "source": [
    "import re, io, os\n",
    "import pickle\n",
    "import numpy as np\n",
    "import pandas as pd\n",
    "from collections import defaultdict\n",
    "import urllib.request\n",
    "import random\n",
    "random.seed(13)"
   ]
  },
  {
   "cell_type": "code",
   "execution_count": 2,
   "metadata": {},
   "outputs": [],
   "source": [
    "from sklearn.feature_extraction.text import CountVectorizer, TfidfVectorizer\n",
    "from sklearn.decomposition import NMF\n",
    "from sklearn.manifold import TSNE\n",
    "\n",
    "import matplotlib.pyplot as plt\n",
    "import matplotlib.patches as mpatches\n",
    "import matplotlib\n",
    "%matplotlib inline\n",
    "import seaborn as sns"
   ]
  },
  {
   "cell_type": "markdown",
   "metadata": {},
   "source": [
    "## Helper Functions"
   ]
  },
  {
   "cell_type": "code",
   "execution_count": 3,
   "metadata": {},
   "outputs": [],
   "source": [
    "def tokenize(data):\n",
    "    index = defaultdict(str)\n",
    "    \n",
    "    with urllib.request.urlopen(data) as file:\n",
    "        for line in file.read().decode('latin-1').splitlines():\n",
    "            # pull out takahashi lines\n",
    "            m = re.match(r'^<(f.*?)\\..*;H> +(\\S.*)$', line)\n",
    "            if not m:\n",
    "                continue\n",
    "\n",
    "            transcription = m.group(2)\n",
    "            pg = str(m.group(1))\n",
    "\n",
    "            # ignore entire line if it has a {&NNN} or {&.} code\n",
    "            if re.search(r'\\{&(\\d|\\.)+\\}', transcription):\n",
    "                continue\n",
    "\n",
    "            # remove extraneous chracters ! and %\n",
    "            s = transcription.replace(\"!\", \"\").replace(\"%\", \"\")\n",
    "            \n",
    "            # delete all end of line {comments} (between one and three observed)\n",
    "            # ...with optional line terminator\n",
    "            # allow 0 occurences to remove end-of-line markers (- or =)\n",
    "            s = re.sub(r'([-=]?\\{[^\\{\\}]+?\\}){0,3}[-=]?\\s*$', \"\", s)\n",
    "\n",
    "            # delete start of line {comments} (single or double)\n",
    "            s = re.sub(r'^(\\{[^\\{\\}]+?\\}){1,2}', \"\", s)\n",
    "\n",
    "            # simplification: tags preceeded by -= are word breaks\n",
    "            s = re.sub(r'[-=]\\{[^\\{\\}]+?\\}', '.', s)\n",
    "\n",
    "            # these tags are nulls\n",
    "            # plant is a null in one case where it is just {plant}\n",
    "            # otherwise (above) it is a word break\n",
    "            # s = re.sub(r'\\{(fold|crease|blot|&\\w.?|plant)\\}', \"\", s)\n",
    "            # simplification: remaining tags in curly brackets\n",
    "            s = re.sub(r'\\{[^\\{\\}]+?\\}', '', s)\n",
    "\n",
    "            # special case .{\\} is still a word break\n",
    "            s = re.sub(r'\\.\\{\\\\\\}', \".\", s)\n",
    "\n",
    "            # split on word boundaries\n",
    "            # exclude null words ('')\n",
    "            words = [str(w) for w in s.split(\".\") if w]\n",
    "            paragraph = ' '.join(words).lstrip()\n",
    "            \n",
    "            index[pg] += (paragraph)\n",
    "\n",
    "    return index\n"
   ]
  },
  {
   "cell_type": "code",
   "execution_count": 4,
   "metadata": {},
   "outputs": [],
   "source": [
    "def print_top_words(model, feature_names, n_top_words):\n",
    "    for topic_idx, topic in enumerate(model.components_):\n",
    "        print(\"\\nTopic #%d:\" % topic_idx)\n",
    "        print(\" \".join([feature_names[i]\n",
    "                        for i in topic.argsort()[:-n_top_words - 1:-1]]))\n",
    "    print()"
   ]
  },
  {
   "cell_type": "markdown",
   "metadata": {},
   "source": [
    "## Load Voynich Data\n",
    "\n",
    "Load the Pickle files produced by vms_vectorize.py"
   ]
  },
  {
   "cell_type": "code",
   "execution_count": 46,
   "metadata": {},
   "outputs": [
    {
     "name": "stderr",
     "output_type": "stream",
     "text": [
      "/home/annie/anaconda3/lib/python3.7/site-packages/sklearn/base.py:306: UserWarning: Trying to unpickle estimator TfidfTransformer from version 0.20.1 when using version 0.21.3. This might lead to breaking code or invalid results. Use at your own risk.\n",
      "  UserWarning)\n",
      "/home/annie/anaconda3/lib/python3.7/site-packages/sklearn/base.py:306: UserWarning: Trying to unpickle estimator TfidfVectorizer from version 0.20.1 when using version 0.21.3. This might lead to breaking code or invalid results. Use at your own risk.\n",
      "  UserWarning)\n",
      "/home/annie/anaconda3/lib/python3.7/site-packages/sklearn/base.py:306: UserWarning: Trying to unpickle estimator CountVectorizer from version 0.20.1 when using version 0.21.3. This might lead to breaking code or invalid results. Use at your own risk.\n",
      "  UserWarning)\n"
     ]
    }
   ],
   "source": [
    "models_path = \"./models\"\n",
    "\n",
    "# load in the pickle files of stored models\n",
    "with open(\"{}/tfidf_vectorizer.pk\".format(models_path), \"rb\") as f:\n",
    "    tfidf_vectorizer = pickle.load(f)\n",
    "with open(\"{}/vms_tf.pk\".format(models_path), \"rb\") as f:\n",
    "    vms_tf = pickle.load(f)\n",
    "with open(\"{}/vms_mapping.pk\".format(models_path), \"rb\") as f:\n",
    "    vms_mapping = pickle.load(f)\n",
    "with open(\"{}/tf_vectorizer.pk\".format(models_path), \"rb\") as f:\n",
    "    tf_vectorizer = pickle.load(f)\n",
    "with open(\"{}/vms_tfidf.pk\".format(models_path), \"rb\") as f:\n",
    "    vms_tfidf = pickle.load(f)\n",
    "\n",
    "index = tokenize(\"https://raw.githubusercontent.com/rachelbari/voynich-topic-modeling/master/data/text16e6.evt\")\n",
    "documents = [index[key] for key in index.keys()]\n"
   ]
  },
  {
   "cell_type": "markdown",
   "metadata": {},
   "source": [
    "#### Make a dict containing information about each page of the VMS"
   ]
  },
  {
   "cell_type": "code",
   "execution_count": 47,
   "metadata": {},
   "outputs": [],
   "source": [
    "# a class for a single folio\n",
    "# currently just contains state variables\n",
    "# will eventually have a show() method to display the page\n",
    "class Folio:\n",
    "    def __init__(self, name, quire, topic=\"?\", hand=0, lang=\"?\"):\n",
    "        self.name = name\n",
    "        self.quire = int(quire)\n",
    "        self.topic = topic\n",
    "        self.hand = int(hand)\n",
    "        self.lang = lang"
   ]
  },
  {
   "cell_type": "code",
   "execution_count": 48,
   "metadata": {},
   "outputs": [
    {
     "name": "stdout",
     "output_type": "stream",
     "text": [
      "     folio               topic  hand language  quire\n",
      "0      f1r           botanical     1        a      1\n",
      "1      f1v           botanical     1        a      1\n",
      "2      f2r           botanical     1        a      1\n",
      "3      f2v           botanical     1        a      1\n",
      "4      f3r           botanical     1        a      1\n",
      "..     ...                 ...   ...      ...    ...\n",
      "220  f114r  starred paragraphs     0        b     18\n",
      "221  f114v  starred paragraphs     0        b     18\n",
      "222  f115r  starred paragraphs     0        b     18\n",
      "223  f115v  starred paragraphs     0        b     18\n",
      "224  f116r  starred paragraphs     0        b     18\n",
      "\n",
      "[225 rows x 5 columns]\n",
      "1\n"
     ]
    }
   ],
   "source": [
    "lfd_map = pd.read_csv(\"./lfd_map.csv\")\n",
    "print(lfd_map)\n",
    "vms = {}\n",
    "for row in lfd_map.iterrows():\n",
    "    folio = Folio(row[1].folio, row[1].quire, row[1].topic, row[1].hand, row[1].language)\n",
    "    vms[folio.name] = folio\n",
    "\n",
    "print(vms['f1r'].hand)"
   ]
  },
  {
   "cell_type": "markdown",
   "metadata": {},
   "source": [
    "## Fit NMF models"
   ]
  },
  {
   "cell_type": "code",
   "execution_count": 100,
   "metadata": {},
   "outputs": [
    {
     "name": "stdout",
     "output_type": "stream",
     "text": [
      "\n",
      "Topic #0:\n",
      "chedy shedy ol qokeedy qokedy qokain aiin qokeey ar qokaiin\n",
      "\n",
      "Topic #1:\n",
      "daiin chol chor shol chy cthy sho dy cthol shor\n",
      "\n"
     ]
    }
   ],
   "source": [
    "# for TF\n",
    "#nmf_tf = LatentDirichletAllocation(n_topics=num_topics, random_state=0, max_iter=8)#, learning_method=\"online\", learning_offset=20.)\n",
    "#nmf_tf.fit(vms_tf)\n",
    "# for TFIDF\n",
    "num_topics = 2\n",
    "\n",
    "# reset the topic labels\n",
    "for key in vms.keys():\n",
    "    vms[key].nmf_topic = 0\n",
    "\n",
    "nmf_tfidf = NMF(n_components=num_topics, random_state=1, alpha=.1, l1_ratio=.5, init='nndsvd')\n",
    "nmf_tfidf.fit(vms_tfidf)\n",
    "\n",
    "tfidf_feature_names = tfidf_vectorizer.get_feature_names()\n",
    "print_top_words(nmf_tfidf, tfidf_feature_names, 10)\n",
    "\n",
    "nmf_embedding = nmf_tfidf.transform(vms_tfidf)\n",
    "nmf_embedding = (nmf_embedding - nmf_embedding.mean(axis=0))/nmf_embedding.std(axis=0)\n",
    "\n",
    "# assign each page to its nearest topic, and log that in the vms dict\n",
    "i = 0\n",
    "for topic in nmf_embedding.argmax(axis=1):\n",
    "    name = lfd_map['folio'].values[i]\n",
    "    vms[name].nmf_topic = topic\n",
    "    i += 1"
   ]
  },
  {
   "cell_type": "markdown",
   "metadata": {},
   "source": [
    "## Making sense of the data\n",
    "\n",
    "Using techniques from https://www.kaggle.com/xdsarkar/nips-papers-visualized-with-nmf-and-t-sne\n",
    "\n",
    "First, we transform the tfidf-matrix into an nmf-embedding, and look at which folios are most closely associated with each topic"
   ]
  },
  {
   "cell_type": "code",
   "execution_count": 103,
   "metadata": {
    "scrolled": false
   },
   "outputs": [
    {
     "name": "stdout",
     "output_type": "stream",
     "text": [
      "[[ 59  79 138 184  96  63 185  49 106  78 131  62  76  97 187  82  48 113\n",
      "  107 221 186  93 207  64 165 169 223 189  77 166  58 218 168  83 220  75\n",
      "  164  74 116  65 205 222 204 206 167  89 219 210 209 208 214 217 211 157\n",
      "  216 154 215 160 152 158 155 145 213 163 156 224 150 212 148 161 159 203\n",
      "  151 202 147 162 153 149 144 146]\n",
      " [  8  56  32 192  10 174   7  44  72  52  22 101  69  16  12  39  23  86\n",
      "   73  57 172 182 176  36  29  13  67  55   1  87  54  11  81  43  71  20\n",
      "  103  42  68  31  66   4 177   2  91  41 197  94 196  25  70  85  14 194\n",
      "  108  47 175   3  38 109   9  19  60  50  53  40  26  35  34  15   6  17\n",
      "    0  37  61  18  80  95  27  90]]\n",
      "\n",
      "Topic 0:\n",
      "(0) f76r: hand 2, language b, balneological\n",
      "(0) f75r: hand 2, language b, balneological\n",
      "(0) f77v: hand 2, language b, balneological\n",
      "(0) f79v: hand 2, language b, balneological\n",
      "(0) f84r: hand 2, language b, balneological\n",
      "(0) f76v: hand 2, language b, balneological\n",
      "(0) f103r: hand 0, language b, starred paragraphs\n",
      "(0) f78v: hand 2, language b, balneological\n",
      "(0) f103v: hand 0, language b, starred paragraphs\n",
      "(0) f82v: hand 2, language b, balneological\n",
      "(0) f83v: hand 2, language b, balneological\n",
      "(0) f77r: hand 2, language b, balneological\n",
      "(0) f108r: hand 0, language b, starred paragraphs\n",
      "(0) f78r: hand 2, language b, balneological\n",
      "(0) f116r: hand 0, language b, starred paragraphs\n",
      "(0) f81r: hand 2, language b, balneological\n",
      "(0) f84v: hand 2, language b, balneological\n",
      "(0) f108v: hand 0, language b, starred paragraphs\n",
      "(0) f75v: hand 2, language b, balneological\n",
      "(0) f80v: hand 2, language b, balneological\n",
      "(0) f82r: hand 2, language b, balneological\n",
      "(0) f79r: hand 2, language b, balneological\n",
      "(0) f83r: hand 2, language b, balneological\n",
      "(0) f111v: hand 0, language b, starred paragraphs\n",
      "(0) f80r: hand 2, language b, balneological\n",
      "(0) f112r: hand 0, language b, starred paragraphs\n",
      "(0) f81v: hand 2, language b, balneological\n",
      "(0) f107v: hand 0, language b, starred paragraphs\n",
      "(0) f112v: hand 0, language b, starred paragraphs\n",
      "(0) f111r: hand 0, language b, starred paragraphs\n",
      "(0) f106r: hand 0, language b, starred paragraphs\n",
      "(0) f106v: hand 0, language b, starred paragraphs\n",
      "(0) f107r: hand 0, language b, starred paragraphs\n",
      "(0) f113v: hand 0, language b, starred paragraphs\n",
      "(0) f46v: hand 2, language b, botanical\n",
      "(0) f86v6: hand 2, language b, rose\n",
      "(0) f105r: hand 0, language b, starred paragraphs\n",
      "(0) f104r: hand 0, language b, starred paragraphs\n",
      "(0) f115r: hand 0, language b, starred paragraphs\n",
      "(0) f104v: hand 0, language b, starred paragraphs\n",
      "(0) f34v: hand 2, language b, botanical\n",
      "(0) f66r: hand 3, language b, unknown\n",
      "(0) f39r: hand 2, language b, botanical\n",
      "(0) f85r1: hand 2, language b, rose\n",
      "(0) f39v: hand 2, language b, botanical\n",
      "(0) f114r: hand 0, language b, starred paragraphs\n",
      "(0) f43v: hand 2, language b, botanical\n",
      "(0) f86v5: hand 2, language b, rose\n",
      "(0) f113r: hand 0, language b, starred paragraphs\n",
      "(0) f31r: hand 2, language b, botanical\n",
      "(0) f86v4: hand 2, language b, rose\n",
      "(0) f40v: hand 2, language b, botanical\n",
      "(0) f95v1: hand 3, language b, botanical\n",
      "(0) f115v: hand 0, language b, starred paragraphs\n",
      "(0) f86v3: hand 2, language b, rose\n",
      "(0) f85r2: hand 2, language b, rose\n",
      "(0) f34r: hand 2, language b, botanical\n",
      "(0) f105v: hand 0, language b, starred paragraphs\n",
      "(0) f48v: hand 2, language b, botanical\n",
      "(0) f95r1: hand 3, language b, botanical\n",
      "(0) f114v: hand 0, language b, starred paragraphs\n",
      "(0) f55v: hand 2, language b, botanical\n",
      "(0) f58v: hand 3, language b, unknown\n",
      "(0) f26r: hand 2, language b, botanical\n",
      "(0) f43r: hand 2, language b, botanical\n",
      "(0) f95r2: hand 3, language b, botanical\n",
      "(0) f50v: hand 2, language b, botanical\n",
      "(0) f40r: hand 2, language b, botanical\n",
      "(0) f33r: hand 2, language b, botanical\n",
      "(0) f70r2: hand 4, language b, astrology\n",
      "(0) f41r: hand 2, language b, botanical\n",
      "(0) f55r: hand 2, language b, botanical\n",
      "(0) f26v: hand 2, language b, botanical\n",
      "(0) f94v: hand 3, language b, botanical\n",
      "(1) f33v: hand 2, language b, botanical\n",
      "(0) f50r: hand 2, language b, botanical\n",
      "(0) f94r: hand 3, language b, botanical\n",
      "(0) f72r3: hand 4, language b, astrology\n",
      "(0) f41v: hand 2, language b, botanical\n",
      "(0) f31v: hand 2, language b, botanical\n",
      "\n",
      "Topic 1:\n",
      "(1) f47r: hand 1, language a, botanical\n",
      "(1) f15v: hand 1, language a, botanical\n",
      "(1) f49v: hand 1, language a, botanical\n",
      "(1) f42r: hand 1, language a, botanical\n",
      "(1) f10r: hand 1, language a, botanical\n",
      "(1) f32v: hand 1, language a, botanical\n",
      "(1) f20v: hand 0, language missing, missing\n",
      "(1) f1r: hand 1, language a, botanical\n",
      "(1) f9v: hand 1, language a, botanical\n",
      "(1) f4r: hand 1, language a, botanical\n",
      "(1) f8v: hand 1, language a, botanical\n",
      "(1) f19r: hand 0, language missing, missing\n",
      "(1) f19v: hand 0, language missing, missing\n",
      "(1) f15r: hand 1, language a, botanical\n",
      "(1) f22r: hand 0, language missing, missing\n",
      "(1) f28v: hand 1, language a, botanical\n",
      "(1) f27r: hand 1, language a, botanical\n",
      "(1) f32r: hand 1, language a, botanical\n",
      "(1) f10v: hand 1, language a, botanical\n",
      "(1) f5v: hand 1, language a, botanical\n",
      "(1) f56v: hand 1, language a, botanical\n",
      "(1) f21r: hand 0, language missing, missing\n",
      "(1) f2v: hand 1, language a, botanical\n",
      "(1) f89r2: hand 1, language a, recipies\n",
      "(1) f25v: hand 1, language a, botanical\n",
      "(1) f56r: hand 1, language a, botanical\n",
      "(1) f100r: hand 1, language a, recipies\n",
      "(1) f8r: hand 1, language a, botanical\n",
      "(1) f44v: hand 1, language a, botanical\n",
      "(1) f37r: hand 1, language a, botanical\n",
      "(1) f14v: hand 0, language missing, missing\n",
      "(1) f101r1: hand 1, language a, recipies\n",
      "(1) f49r: hand 1, language a, botanical\n",
      "(1) f101v2: hand 1, language a, recipies\n",
      "(1) f22v: hand 0, language missing, missing\n",
      "(1) f47v: hand 1, language a, botanical\n",
      "(1) f2r: hand 1, language a, botanical\n",
      "(1) f89v1: hand 1, language a, recipies\n",
      "(1) f3r: hand 1, language a, botanical\n",
      "(1) f35r: hand 1, language a, botanical\n",
      "(1) f17v: hand 0, language missing, missing\n",
      "(1) f36r: hand 1, language a, botanical\n",
      "(1) f23r: hand 0, language missing, missing\n",
      "(1) f53v: hand 1, language a, botanical\n",
      "(1) f11r: hand 1, language a, botanical\n",
      "(1) f37v: hand 1, language a, botanical\n",
      "(1) f23v: hand 0, language missing, missing\n",
      "(1) f42v: hand 1, language a, botanical\n",
      "(1) f6v: hand 1, language a, botanical\n",
      "(1) f29r: hand 1, language a, botanical\n",
      "(1) f45v: hand 1, language a, botanical\n",
      "(1) f1v: hand 1, language a, botanical\n",
      "(1) f29v: hand 1, language a, botanical\n",
      "(1) f35v: hand 1, language a, botanical\n",
      "(1) f7v: hand 1, language a, botanical\n",
      "(1) f16v: hand 1, language a, botanical\n",
      "(1) f20r: hand 0, language missing, missing\n",
      "(1) f89v2: hand 1, language a, recipies\n",
      "(1) f93r: hand 1, language a, botanical\n",
      "(1) f88r: hand 1, language a, recipies\n",
      "(1) f30v: hand 1, language a, botanical\n",
      "(1) f38v: hand 1, language a, botanical\n",
      "(1) f45r: hand 1, language a, botanical\n",
      "(1) f13v: hand 1, language a, botanical\n",
      "(1) f21v: hand 0, language missing, missing\n",
      "(1) f7r: hand 1, language a, botanical\n",
      "(1) f9r: hand 1, language a, botanical\n",
      "(1) f36v: hand 1, language a, botanical\n",
      "(1) f52v: hand 1, language a, botanical\n",
      "(1) f13r: hand 1, language a, botanical\n",
      "(1) f28r: hand 1, language a, botanical\n",
      "(1) f38r: hand 1, language a, botanical\n",
      "(1) f24r: hand 0, language missing, missing\n",
      "(1) f4v: hand 1, language a, botanical\n",
      "(1) f89r1: hand 1, language a, recipies\n",
      "(1) f6r: hand 1, language a, botanical\n",
      "(1) f99r: hand 1, language a, recipies\n",
      "(1) f18r: hand 0, language missing, missing\n",
      "(1) f30r: hand 1, language a, botanical\n",
      "(1) f5r: hand 1, language a, botanical\n"
     ]
    }
   ],
   "source": [
    "top_n = 80 #how many pages\n",
    "\n",
    "top_idx = np.argsort(nmf_embedding,axis=0)[-top_n:]\n",
    "\n",
    "print(top_idx.T)\n",
    "\n",
    "# output into a file\n",
    "outfile = open('./out/map_'+str(num_topics)+'_topics_top_'+str(top_n)+'.txt', 'w') \n",
    "\n",
    "count = 0\n",
    "for idxs in top_idx.T: \n",
    "    print(\"\\nTopic {}:\".format(count))\n",
    "    print(\"\\nTopic {}:\".format(count), file=outfile)\n",
    "    for idx in np.flip(idxs): # they're in reverse order\n",
    "        folio = vms_mapping[idx]\n",
    "        # print twice to get both file output and stdout in the notebook\n",
    "        print(\"(\"+str(vms[folio].nmf_topic)+\") \"+folio+\": hand \"+str(vms[folio].hand)+\", language \"+vms[folio].lang+\", \"+vms[folio].topic)\n",
    "        print(\"(\"+str(vms[folio].nmf_topic)+\") \"+folio+\": hand \"+str(vms[folio].hand)+\", language \"+vms[folio].lang+\", \"+vms[folio].topic, file=outfile)\n",
    "    count += 1\n",
    "outfile.close()\n"
   ]
  },
  {
   "cell_type": "markdown",
   "metadata": {},
   "source": [
    "### Visualize the results with t-SNE"
   ]
  },
  {
   "cell_type": "code",
   "execution_count": 99,
   "metadata": {},
   "outputs": [
    {
     "data": {
      "text/plain": [
       "<matplotlib.legend.Legend at 0x7ff94b9988d0>"
      ]
     },
     "execution_count": 99,
     "metadata": {},
     "output_type": "execute_result"
    },
    {
     "data": {
      "image/png": "[encoded data removed]",
      "text/plain": [
       "<Figure size 576x576 with 1 Axes>"
      ]
     },
     "metadata": {
      "needs_background": "light"
     },
     "output_type": "display_data"
    }
   ],
   "source": [
    "# set your colormap here\n",
    "# https://matplotlib.org/3.1.1/gallery/color/colormap_reference.html\n",
    "colormap = \"Dark2\"\n",
    "\n",
    "# make a t-SNE embedding\n",
    "tsne = TSNE()#pass in int random_state for deterministic behavior\n",
    "tsne_embedding = tsne.fit_transform(nmf_embedding)\n",
    "tsne_embedding = pd.DataFrame(tsne_embedding,columns=['x','y'])\n",
    "\n",
    "# get the colors to put in the legend\n",
    "cmap = matplotlib.cm.get_cmap(colormap)\n",
    "color_list = cmap(range(0, num_topics))\n",
    "legend_list, topics = [], []\n",
    "for i in range(num_topics): \n",
    "    legend_list.append(mpatches.Ellipse((0,0), 1, 1, fc=color_list[i]))\n",
    "    topics.append(\"Topic \"+str(i))\n",
    "# now force these colors to be used in the plot\n",
    "tsne_color = []\n",
    "for i in nmf_embedding.argmax(axis=1): tsne_color.append(color_list[i])\n",
    "tsne_embedding = tsne_embedding.assign(color= tsne_color)\n",
    "\n",
    "# plot!\n",
    "fig = plt.figure(figsize=(8,8))\n",
    "ax = plt.gca()\n",
    "ax.axis('off')\n",
    "ax.scatter(x=tsne_embedding['x'], y=tsne_embedding['y'], s=6, c=tsne_embedding['color'])\n",
    "fig.legend(legend_list, topics, loc=(0.1, 0.79))"
   ]
  },
  {
   "cell_type": "code",
   "execution_count": null,
   "metadata": {},
   "outputs": [],
   "source": []
  },
  {
   "cell_type": "code",
   "execution_count": null,
   "metadata": {},
   "outputs": [],
   "source": []
  },
  {
   "cell_type": "code",
   "execution_count": null,
   "metadata": {},
   "outputs": [],
   "source": []
  }
 ],
 "metadata": {
  "kernelspec": {
   "display_name": "Python 3",
   "language": "python",
   "name": "python3"
  },
  "language_info": {
   "codemirror_mode": {
    "name": "ipython",
    "version": 3
   },
   "file_extension": ".py",
   "mimetype": "text/x-python",
   "name": "python",
   "nbconvert_exporter": "python",
   "pygments_lexer": "ipython3",
   "version": "3.7.5"
  }
 },
 "nbformat": 4,
 "nbformat_minor": 1
}

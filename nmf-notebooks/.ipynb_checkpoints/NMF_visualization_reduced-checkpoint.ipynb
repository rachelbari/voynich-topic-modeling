{
 "cells": [
  {
   "cell_type": "markdown",
   "metadata": {},
   "source": [
    "# `NMF visualization`\n",
    "\n",
    "Modified from the pyLDAvis scikit-learn example notebook."
   ]
  },
  {
   "cell_type": "code",
   "execution_count": 1,
   "metadata": {
    "scrolled": true
   },
   "outputs": [],
   "source": [
    "import re, io, os\n",
    "import pickle\n",
    "import numpy as np\n",
    "import pandas as pd\n",
    "from collections import defaultdict\n",
    "import urllib.request\n",
    "import random\n",
    "random.seed(13)"
   ]
  },
  {
   "cell_type": "code",
   "execution_count": 2,
   "metadata": {},
   "outputs": [],
   "source": [
    "from sklearn.feature_extraction.text import CountVectorizer, TfidfVectorizer\n",
    "from sklearn.decomposition import NMF\n",
    "from sklearn.manifold import TSNE\n",
    "\n",
    "import matplotlib.pyplot as plt\n",
    "import matplotlib.patches as mpatches\n",
    "import matplotlib\n",
    "%matplotlib inline\n",
    "#import seaborn as sns"
   ]
  },
  {
   "cell_type": "markdown",
   "metadata": {},
   "source": [
    "## Helper Functions"
   ]
  },
  {
   "cell_type": "code",
   "execution_count": 3,
   "metadata": {},
   "outputs": [],
   "source": [
    "def tokenize(data):\n",
    "    index_str = defaultdict(str)\n",
    "    index_arr = defaultdict(list)\n",
    "    \n",
    "    with urllib.request.urlopen(data) as file:\n",
    "        for line in file.read().decode('latin-1').splitlines():\n",
    "            # pull out takahashi lines\n",
    "            m = re.match(r'^<(f.*?)\\..*;H> +(\\S.*)$', line)\n",
    "            if not m:\n",
    "                continue\n",
    "\n",
    "            transcription = m.group(2)\n",
    "            pg = str(m.group(1))\n",
    "\n",
    "            # ignore entire line if it has a {&NNN} or {&.} code\n",
    "            if re.search(r'\\{&(\\d|\\.)+\\}', transcription):\n",
    "                continue\n",
    "\n",
    "            # remove extraneous chracters ! and %\n",
    "            s = transcription.replace(\"!\", \"\").replace(\"%\", \"\")\n",
    "            \n",
    "            # delete all end of line {comments} (between one and three observed)\n",
    "            # ...with optional line terminator\n",
    "            # allow 0 occurences to remove end-of-line markers (- or =)\n",
    "            s = re.sub(r'([-=]?\\{[^\\{\\}]+?\\}){0,3}[-=]?\\s*$', \"\", s)\n",
    "\n",
    "            # delete start of line {comments} (single or double)\n",
    "            s = re.sub(r'^(\\{[^\\{\\}]+?\\}){1,2}', \"\", s)\n",
    "\n",
    "            # simplification: tags preceeded by -= are word breaks\n",
    "            s = re.sub(r'[-=]\\{[^\\{\\}]+?\\}', '.', s)\n",
    "\n",
    "            # these tags are nulls\n",
    "            # plant is a null in one case where it is just {plant}\n",
    "            # otherwise (above) it is a word break\n",
    "            # s = re.sub(r'\\{(fold|crease|blot|&\\w.?|plant)\\}', \"\", s)\n",
    "            # simplification: remaining tags in curly brackets\n",
    "            s = re.sub(r'\\{[^\\{\\}]+?\\}', '', s)\n",
    "\n",
    "            # special case .{\\} is still a word break\n",
    "            s = re.sub(r'\\.\\{\\\\\\}', \".\", s)\n",
    "\n",
    "            # split on word boundaries\n",
    "            # exclude null words ('')\n",
    "            words = [str(w) for w in s.split(\".\") if w]\n",
    "            paragraph = ' '.join(words).lstrip()\n",
    "            \n",
    "            index_str[pg] += (paragraph)\n",
    "            index_arr[pg] += words\n",
    "\n",
    "    return index_str, index_arr\n"
   ]
  },
  {
   "cell_type": "code",
   "execution_count": 4,
   "metadata": {},
   "outputs": [],
   "source": [
    "def print_top_words(model, feature_names, n_top_words):\n",
    "    for topic_idx, topic in enumerate(model.components_):\n",
    "        print(\"\\nTopic #%d:\" % topic_idx)\n",
    "        print(\" \".join([feature_names[i]\n",
    "                        for i in topic.argsort()[:-n_top_words - 1:-1]]))\n",
    "    print()"
   ]
  },
  {
   "cell_type": "markdown",
   "metadata": {},
   "source": [
    "## Load Voynich Data\n",
    "\n",
    "Load the Pickle files produced by vms_vectorize.py"
   ]
  },
  {
   "cell_type": "code",
   "execution_count": 5,
   "metadata": {},
   "outputs": [
    {
     "name": "stdout",
     "output_type": "stream",
     "text": [
      "Not in the cut: f5v\n",
      "Not in the cut: f11v\n",
      "Not in the cut: f25r\n",
      "Not in the cut: f38r\n",
      "Not in the cut: f65r\n",
      "Not in the cut: f65v\n",
      "Not in the cut: f90r2\n"
     ]
    }
   ],
   "source": [
    "index_str, index_arr = tokenize(\"https://raw.githubusercontent.com/rachelbari/voynich-topic-modeling/master/data/text16e6.evt\")\n",
    "\n",
    "astr = ['f67r1','f67r2','f67v2','f67v1','f68r1','f68r2','f68r3','f68v3','f68v2','f68v1','f69r','f69v','f70r1','f70r2','f70v2','f70v1','f71r',\n",
    "        'f71v','f72r1','f72r2','f72r3','f72v3','f72v2','f72v1','f73r','f73v']\n",
    "\n",
    "fols = [f for f in index_str if f not in astr]\n",
    "\n",
    "reduced_f = []\n",
    "new_index = {}\n",
    "for f in fols:\n",
    "    if len(index_arr[f]) >= 50:\n",
    "        new_index[f]=index_arr[f]\n",
    "    else:\n",
    "        print(\"Not in the cut: {}\".format(f))\n",
    "        \n",
    "num_words = 20\n",
    "for i in new_index:\n",
    "    new_index[i] = random.sample(new_index[i], num_words)\n",
    "    new_index[i] = ' '.join(new_index[i]).lstrip()\n",
    "    \n",
    "documents = [new_index[key] for key in new_index.keys()]\n",
    "vms_mapping = [k for k in new_index.keys()]\n",
    "\n",
    "tfidf_vectorizer = TfidfVectorizer(max_df=0.95, min_df=2)\n",
    "vms_tfidf = tfidf_vectorizer.fit_transform(documents)\n",
    "\n"
   ]
  },
  {
   "cell_type": "markdown",
   "metadata": {},
   "source": [
    "#### Make a dict containing information about each page of the VMS"
   ]
  },
  {
   "cell_type": "code",
   "execution_count": 6,
   "metadata": {},
   "outputs": [],
   "source": [
    "# a class for a single folio\n",
    "# currently just contains state variables\n",
    "# will eventually have a show() method to display the page\n",
    "class Folio:\n",
    "    def __init__(self, name, quire, topic=\"?\", hand=0, lang=\"?\"):\n",
    "        self.name = name\n",
    "        self.quire = int(quire)\n",
    "        self.topic = topic\n",
    "        self.hand = int(hand)\n",
    "        self.lang = lang"
   ]
  },
  {
   "cell_type": "code",
   "execution_count": 7,
   "metadata": {},
   "outputs": [],
   "source": [
    "lfd_map = pd.read_csv(\"./../lfd_map_5.csv\")\n",
    "#print(lfd_map)\n",
    "vms = {}\n",
    "for index, row in lfd_map.iterrows():\n",
    "    if row.folio in new_index:\n",
    "        folio = Folio(row.folio, row.quire, row.topic, row.hand, row.language)\n",
    "        vms[folio.name] = folio\n",
    "    else:\n",
    "        lfd_map.drop(index, inplace=True)\n"
   ]
  },
  {
   "cell_type": "markdown",
   "metadata": {},
   "source": [
    "## Fit NMF models"
   ]
  },
  {
   "cell_type": "code",
   "execution_count": 8,
   "metadata": {},
   "outputs": [
    {
     "name": "stdout",
     "output_type": "stream",
     "text": [
      "\n",
      "Topic #0:\n",
      "daiin chol sho dy chy cthy dain qoty qotchy okchor\n",
      "\n",
      "Topic #1:\n",
      "shedy qokedy chedy ol qokeedy qokeey qokaiin qokain chdy okeedy\n",
      "\n",
      "Topic #2:\n",
      "cheol cheor sar okol daiin sol cheeor ctheol cheey sal\n",
      "\n",
      "Topic #3:\n",
      "chor shol chol cthor daiin soiin cthol okeor keey chaiin\n",
      "\n",
      "Topic #4:\n",
      "chey dar dal dair shol chedy otaiin qoky ckhy qoteedy\n",
      "\n",
      "Topic #5:\n",
      "aiin ar or al otedy qokaiin okar okaiin okal otar\n",
      "\n"
     ]
    }
   ],
   "source": [
    "# for TF\n",
    "#nmf_tf = LatentDirichletAllocation(n_topics=num_topics, random_state=0, max_iter=8)#, learning_method=\"online\", learning_offset=20.)\n",
    "#nmf_tf.fit(vms_tf)\n",
    "# for TFIDF\n",
    "num_topics = 6\n",
    "\n",
    "# reset the topic labels\n",
    "for key in vms.keys():\n",
    "    vms[key].nmf_topic = 0\n",
    "\n",
    "nmf_tfidf = NMF(n_components=num_topics, random_state=1, alpha=.1, l1_ratio=.5, init='nndsvd')\n",
    "nmf_tfidf.fit(vms_tfidf)\n",
    "\n",
    "tfidf_feature_names = tfidf_vectorizer.get_feature_names()\n",
    "print_top_words(nmf_tfidf, tfidf_feature_names, 10)\n",
    "\n",
    "nmf_embedding = nmf_tfidf.transform(vms_tfidf)\n",
    "nmf_embedding = (nmf_embedding - nmf_embedding.mean(axis=0))/nmf_embedding.std(axis=0)\n",
    "\n",
    "# assign each page to its nearest topic, and log that in the vms dict\n",
    "i = 0\n",
    "topic_col = []\n",
    "for topic in nmf_embedding.argmax(axis=1):\n",
    "    name = lfd_map['folio'].values[i]\n",
    "    vms[name].nmf_topic = topic\n",
    "    topic_col.append(topic)\n",
    "    i += 1\n",
    "lfd_map = lfd_map.assign(topic_nmf = topic_col)\n",
    "\n",
    "lfd_map.to_csv(\"./nmf_out/nmf_{}_map_REDUCED_{}.csv\".format(str(num_topics), str(num_words)))"
   ]
  },
  {
   "cell_type": "markdown",
   "metadata": {},
   "source": [
    "## Making sense of the data\n",
    "\n",
    "Using techniques from https://www.kaggle.com/xdsarkar/nips-papers-visualized-with-nmf-and-t-sne\n",
    "\n",
    "First, we transform the tfidf-matrix into an nmf-embedding, and look at which folios are most closely associated with each topic"
   ]
  },
  {
   "cell_type": "code",
   "execution_count": 9,
   "metadata": {
    "scrolled": false
   },
   "outputs": [
    {
     "name": "stdout",
     "output_type": "stream",
     "text": [
      "[[ 99  90  37  51  86  44  19  67  17  52  35  57  18  40  65  20  68  64\n",
      "   23   3]\n",
      " [188 119 128  74 126  70 116 180  62 121 170 118 129  45 112 115 114 124\n",
      "  130 117]\n",
      " [164 183   8 142  90 147 108 126  42 166 158 149  91 101 162  97 163 168\n",
      "  145 140]\n",
      " [ 33  90  53  14  15  36  16  32  86   5   9   3  50  30  38  13  10   6\n",
      "  161  25]\n",
      " [ 62 104  78 133 174 173   9   8 151  31  21 150 189  22 128  47 144  79\n",
      "    1 113]\n",
      " [123 132 155  70 175  73 183 179 177 135 134 178  61 186  59  60 131 184\n",
      "   56 103]]\n",
      "\n",
      "Topic 0:\n",
      "(0) f2v: hand 1, language a, botanical\n",
      "(0) f14v: hand 1, language a, botanical\n",
      "(0) f35v: hand 1, language a, botanical\n",
      "(0) f37v: hand 1, language a, botanical\n",
      "(0) f13r: hand 1, language a, botanical\n",
      "(0) f36r: hand 1, language a, botanical\n",
      "(0) f23r: hand 1, language a, botanical\n",
      "(0) f10v: hand 1, language a, botanical\n",
      "(0) f32r: hand 1, language a, botanical\n",
      "(0) f20v: hand 1, language a, botanical\n",
      "(0) f29v: hand 1, language a, botanical\n",
      "(0) f10r: hand 1, language a, botanical\n",
      "(0) f37r: hand 1, language a, botanical\n",
      "(0) f11r: hand 1, language a, botanical\n",
      "(0) f25v: hand 1, language a, botanical\n",
      "(3) f47r: hand 1, language a, botanical\n",
      "(0) f29r: hand 1, language a, botanical\n",
      "(0) f21v: hand 1, language a, botanical\n",
      "(0) f49r: hand 1, language a, botanical\n",
      "(0) f53v: hand 1, language a, botanical\n",
      "\n",
      "Topic 1:\n",
      "(1) f77v: hand 2, language b, balneological\n",
      "(1) f84r: hand 2, language b, balneological\n",
      "(1) f81r: hand 2, language b, balneological\n",
      "(1) f76r: hand 2, language b, balneological\n",
      "(1) f76v: hand 2, language b, balneological\n",
      "(1) f75r: hand 2, language b, balneological\n",
      "(1) f26r: hand 2, language b, botanical\n",
      "(1) f83v: hand 2, language b, balneological\n",
      "(1) f78r: hand 2, language b, balneological\n",
      "(1) f103v: hand 3, language b, starred paragraphs\n",
      "(1) f79v: hand 2, language b, balneological\n",
      "(1) f34v: hand 2, language b, botanical\n",
      "(1) f108v: hand 3, language b, starred paragraphs\n",
      "(1) f77r: hand 2, language b, balneological\n",
      "(1) f39r: hand 2, language b, botanical\n",
      "(2) f82r: hand 2, language b, balneological\n",
      "(1) f41r: hand 5, language b, botanical\n",
      "(4) f83r: hand 2, language b, balneological\n",
      "(1) f78v: hand 2, language b, balneological\n",
      "(1) f114v: hand 3, language b, starred paragraphs\n",
      "\n",
      "Topic 2:\n",
      "(2) f88r: hand 1, language a, recipes\n",
      "(2) f89v1: hand 1, language a, recipes\n",
      "(2) f102v1: hand 1, language a, recipes\n",
      "(2) f101r1: hand 1, language a, recipes\n",
      "(2) f52v: hand 1, language a, botanical\n",
      "(2) f100v: hand 1, language a, recipes\n",
      "(2) f54v: hand 1, language a, botanical\n",
      "(2) f49v: hand 1, language a, botanical\n",
      "(2) f93r: hand 1, language a, botanical\n",
      "(2) f96v: hand 1, language a, botanical\n",
      "(2) f102r2: hand 1, language a, recipes\n",
      "(2) f24r: hand 1, language a, botanical\n",
      "(2) f82r: hand 2, language b, balneological\n",
      "(2) f58r: hand 3, language b, unknown\n",
      "(2) f90v2: hand 1, language a, botanical\n",
      "(0) f49r: hand 1, language a, botanical\n",
      "(2) f89r1: hand 1, language a, recipes\n",
      "(4) f5r: hand 1, language a, botanical\n",
      "(5) f112r: hand 3, language b, starred paragraphs\n",
      "(2) f101v2: hand 1, language a, recipes\n",
      "\n",
      "Topic 3:\n",
      "(3) f15v: hand 1, language a, botanical\n",
      "(3) f100r: hand 1, language a, recipes\n",
      "(3) f4r: hand 1, language a, botanical\n",
      "(3) f6v: hand 1, language a, botanical\n",
      "(3) f8r: hand 1, language a, botanical\n",
      "(3) f22r: hand 1, language a, botanical\n",
      "(3) f18r: hand 1, language a, botanical\n",
      "(3) f28v: hand 1, language a, botanical\n",
      "(0) f2v: hand 1, language a, botanical\n",
      "(3) f6r: hand 1, language a, botanical\n",
      "(3) f3v: hand 1, language a, botanical\n",
      "(3) f47r: hand 1, language a, botanical\n",
      "(3) f19r: hand 1, language a, botanical\n",
      "(3) f9v: hand 1, language a, botanical\n",
      "(3) f21r: hand 1, language a, botanical\n",
      "(3) f9r: hand 1, language a, botanical\n",
      "(3) f8v: hand 1, language a, botanical\n",
      "(3) f30r: hand 1, language a, botanical\n",
      "(0) f49r: hand 1, language a, botanical\n",
      "(3) f19v: hand 1, language a, botanical\n",
      "\n",
      "Topic 4:\n",
      "(4) f75v: hand 2, language b, balneological\n",
      "(4) f1v: hand 1, language a, botanical\n",
      "(4) f43v: hand 2, language b, botanical\n",
      "(4) f89v2: hand 1, language a, recipes\n",
      "(4) f27r: hand 1, language a, botanical\n",
      "(4) f83r: hand 2, language b, balneological\n",
      "(4) f14r: hand 1, language a, botanical\n",
      "(4) f115r: hand 2, language b, starred paragraphs\n",
      "(4) f93v: hand 1, language a, botanical\n",
      "(4) f13v: hand 1, language a, botanical\n",
      "(4) f18v: hand 1, language a, botanical\n",
      "(4) f94r: hand 3, language b, botanical\n",
      "(4) f5r: hand 1, language a, botanical\n",
      "(3) f6r: hand 1, language a, botanical\n",
      "(4) f105r: hand 3, language b, starred paragraphs\n",
      "(4) f105v: hand 3, language b, starred paragraphs\n",
      "(5) f85r2: hand 4, language b, rose\n",
      "(4) f43r: hand 2, language b, botanical\n",
      "(4) f56r: hand 1, language a, botanical\n",
      "(1) f34v: hand 2, language b, botanical\n",
      "\n",
      "Topic 5:\n",
      "(5) f55v: hand 2, language b, botanical\n",
      "(5) f31v: hand 2, language b, botanical\n",
      "(5) f112v: hand 3, language b, starred paragraphs\n",
      "(5) f84v: hand 2, language b, balneological\n",
      "(5) f33v: hand 2, language b, botanical\n",
      "(5) f33r: hand 2, language b, botanical\n",
      "(5) f113v: hand 3, language b, starred paragraphs\n",
      "(5) f34r: hand 2, language b, botanical\n",
      "(5) f107v: hand 3, language b, starred paragraphs\n",
      "(5) f86v4: hand 2, language b, rose\n",
      "(5) f86v6: hand 2, language b, rose\n",
      "(5) f107r: hand 3, language b, starred paragraphs\n",
      "(5) f108r: hand 3, language b, starred paragraphs\n",
      "(5) f112r: hand 3, language b, starred paragraphs\n",
      "(5) f40v: hand 2, language b, botanical\n",
      "(5) f106r: hand 3, language b, starred paragraphs\n",
      "(1) f39r: hand 2, language b, botanical\n",
      "(5) f95v2: hand 3, language b, botanical\n",
      "(5) f85r1: hand 2, language b, rose\n",
      "(5) f80v: hand 2, language b, balneological\n"
     ]
    }
   ],
   "source": [
    "top_n = 20 #how many pages\n",
    "\n",
    "top_idx = np.argsort(nmf_embedding,axis=0)[-top_n:]\n",
    "\n",
    "print(top_idx.T)\n",
    "\n",
    "# output into a file\n",
    "outfile = open('./nmf_out/map_'+str(num_topics)+'_topics_top_'+str(top_n)+'.txt', 'w') \n",
    "\n",
    "count = 0\n",
    "for idxs in top_idx.T: \n",
    "    print(\"\\nTopic {}:\".format(count))\n",
    "    print(\"\\nTopic {}:\".format(count), file=outfile)\n",
    "    for idx in np.flip(idxs): # they're in reverse order\n",
    "        folio = vms_mapping[idx]\n",
    "        # print twice to get both file output and stdout in the notebook\n",
    "        print(\"(\"+str(vms[folio].nmf_topic)+\") \"+folio+\": hand \"+str(vms[folio].hand)+\", language \"+vms[folio].lang+\", \"+vms[folio].topic)\n",
    "        print(\"(\"+str(vms[folio].nmf_topic)+\") \"+folio+\": hand \"+str(vms[folio].hand)+\", language \"+vms[folio].lang+\", \"+vms[folio].topic, file=outfile)\n",
    "    count += 1\n",
    "outfile.close()\n"
   ]
  },
  {
   "cell_type": "markdown",
   "metadata": {},
   "source": [
    "### Visualize the results with t-SNE"
   ]
  },
  {
   "cell_type": "code",
   "execution_count": 10,
   "metadata": {},
   "outputs": [
    {
     "data": {
      "text/plain": [
       "<matplotlib.legend.Legend at 0x11625b890>"
      ]
     },
     "execution_count": 10,
     "metadata": {},
     "output_type": "execute_result"
    },
    {
     "data": {
      "image/png": "[encoded data removed]",
      "text/plain": [
       "<Figure size 576x576 with 1 Axes>"
      ]
     },
     "metadata": {
      "needs_background": "light"
     },
     "output_type": "display_data"
    }
   ],
   "source": [
    "# set your colormap here\n",
    "# https://matplotlib.org/3.1.1/gallery/color/colormap_reference.html\n",
    "colormap = \"Dark2\"\n",
    "\n",
    "# make a t-SNE embedding\n",
    "tsne = TSNE()#pass in int random_state for deterministic behavior\n",
    "tsne_embedding = tsne.fit_transform(nmf_embedding)\n",
    "tsne_embedding = pd.DataFrame(tsne_embedding,columns=['x','y'])\n",
    "\n",
    "# get the colors to put in the legend\n",
    "cmap = matplotlib.cm.get_cmap(colormap)\n",
    "color_list = cmap(range(0, num_topics))\n",
    "legend_list, topics = [], []\n",
    "for i in range(num_topics): \n",
    "    legend_list.append(mpatches.Ellipse((0,0), 1, 1, fc=color_list[i]))\n",
    "    topics.append(\"Topic \"+str(i))\n",
    "# now force these colors to be used in the plot\n",
    "tsne_color = []\n",
    "for i in nmf_embedding.argmax(axis=1): tsne_color.append(color_list[i])\n",
    "tsne_embedding = tsne_embedding.assign(color= tsne_color)\n",
    "\n",
    "# plot!\n",
    "fig = plt.figure(figsize=(8,8))\n",
    "ax = plt.gca()\n",
    "ax.axis('off')\n",
    "ax.scatter(x=tsne_embedding['x'], y=tsne_embedding['y'], s=6, c=tsne_embedding['color'])\n",
    "fig.legend(legend_list, topics, loc=(0.1, 0.79))"
   ]
  },
  {
   "cell_type": "code",
   "execution_count": null,
   "metadata": {},
   "outputs": [],
   "source": []
  },
  {
   "cell_type": "code",
   "execution_count": null,
   "metadata": {},
   "outputs": [],
   "source": []
  },
  {
   "cell_type": "code",
   "execution_count": null,
   "metadata": {},
   "outputs": [],
   "source": []
  }
 ],
 "metadata": {
  "kernelspec": {
   "display_name": "Python 3",
   "language": "python",
   "name": "python3"
  },
  "language_info": {
   "codemirror_mode": {
    "name": "ipython",
    "version": 3
   },
   "file_extension": ".py",
   "mimetype": "text/x-python",
   "name": "python",
   "nbconvert_exporter": "python",
   "pygments_lexer": "ipython3",
   "version": "3.7.5"
  }
 },
 "nbformat": 4,
 "nbformat_minor": 1
}

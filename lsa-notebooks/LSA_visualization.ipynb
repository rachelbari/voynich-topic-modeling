{
 "cells": [
  {
   "cell_type": "markdown",
   "metadata": {},
   "source": [
    "# `LSA visualization`\n",
    "\n",
    "Modified from the pyLDAvis scikit-learn example notebook."
   ]
  },
  {
   "cell_type": "code",
   "execution_count": 1,
   "metadata": {
    "scrolled": true
   },
   "outputs": [],
   "source": [
    "import re, io, os\n",
    "import pickle\n",
    "import numpy as np\n",
    "import pandas as pd\n",
    "from collections import defaultdict\n",
    "import urllib.request\n",
    "import random\n",
    "random.seed(13)"
   ]
  },
  {
   "cell_type": "code",
   "execution_count": 2,
   "metadata": {},
   "outputs": [],
   "source": [
    "from sklearn.feature_extraction.text import CountVectorizer, TfidfVectorizer\n",
    "from sklearn.decomposition import NMF, LatentDirichletAllocation, TruncatedSVD\n",
    "from sklearn.manifold import TSNE\n",
    "\n",
    "import matplotlib.pyplot as plt\n",
    "import matplotlib.patches as mpatches\n",
    "import matplotlib\n",
    "%matplotlib inline"
   ]
  },
  {
   "cell_type": "markdown",
   "metadata": {},
   "source": [
    "## Helper Functions"
   ]
  },
  {
   "cell_type": "code",
   "execution_count": 3,
   "metadata": {},
   "outputs": [],
   "source": [
    "def tokenize(data):\n",
    "    index = defaultdict(str)\n",
    "    \n",
    "    with urllib.request.urlopen(data) as file:\n",
    "        for line in file.read().decode('latin-1').splitlines():\n",
    "            # pull out takahashi lines\n",
    "            m = re.match(r'^<(f.*?)\\..*;H> +(\\S.*)$', line)\n",
    "            if not m:\n",
    "                continue\n",
    "\n",
    "            transcription = m.group(2)\n",
    "            pg = str(m.group(1))\n",
    "\n",
    "            # ignore entire line if it has a {&NNN} or {&.} code\n",
    "            if re.search(r'\\{&(\\d|\\.)+\\}', transcription):\n",
    "                continue\n",
    "\n",
    "            # remove extraneous chracters ! and %\n",
    "            s = transcription.replace(\"!\", \"\").replace(\"%\", \"\")\n",
    "            \n",
    "            # delete all end of line {comments} (between one and three observed)\n",
    "            # ...with optional line terminator\n",
    "            # allow 0 occurences to remove end-of-line markers (- or =)\n",
    "            s = re.sub(r'([-=]?\\{[^\\{\\}]+?\\}){0,3}[-=]?\\s*$', \"\", s)\n",
    "\n",
    "            # delete start of line {comments} (single or double)\n",
    "            s = re.sub(r'^(\\{[^\\{\\}]+?\\}){1,2}', \"\", s)\n",
    "\n",
    "            # simplification: tags preceeded by -= are word breaks\n",
    "            s = re.sub(r'[-=]\\{[^\\{\\}]+?\\}', '.', s)\n",
    "\n",
    "            # these tags are nulls\n",
    "            # plant is a null in one case where it is just {plant}\n",
    "            # otherwise (above) it is a word break\n",
    "            # s = re.sub(r'\\{(fold|crease|blot|&\\w.?|plant)\\}', \"\", s)\n",
    "            # simplification: remaining tags in curly brackets\n",
    "            s = re.sub(r'\\{[^\\{\\}]+?\\}', '', s)\n",
    "\n",
    "            # special case .{\\} is still a word break\n",
    "            s = re.sub(r'\\.\\{\\\\\\}', \".\", s)\n",
    "\n",
    "            # split on word boundaries\n",
    "            # exclude null words ('')\n",
    "            words = [str(w) for w in s.split(\".\") if w]\n",
    "            paragraph = ' '.join(words).lstrip()\n",
    "            \n",
    "            index[pg] += (paragraph)\n",
    "\n",
    "    return index\n"
   ]
  },
  {
   "cell_type": "code",
   "execution_count": 4,
   "metadata": {},
   "outputs": [],
   "source": [
    "def print_top_words(model, feature_names, n_top_words):\n",
    "    for topic_idx, topic in enumerate(model.components_):\n",
    "        print(\"\\nTopic #%d:\" % topic_idx)\n",
    "        print(\" \".join([feature_names[i]\n",
    "                        for i in topic.argsort()[:-n_top_words - 1:-1]]))\n",
    "    print()"
   ]
  },
  {
   "cell_type": "markdown",
   "metadata": {},
   "source": [
    "## Load Voynich Data\n",
    "\n",
    "Load the Pickle files produced by vms_vectorize.py"
   ]
  },
  {
   "cell_type": "code",
   "execution_count": 5,
   "metadata": {},
   "outputs": [],
   "source": [
    "\n",
    "\n",
    "index = tokenize(\"https://raw.githubusercontent.com/rachelbari/voynich-topic-modeling/master/data/text16e6.evt\")\n",
    "documents = [index[key] for key in index.keys()]\n",
    "vms_mapping = [k for k in index.keys()]\n"
   ]
  },
  {
   "cell_type": "markdown",
   "metadata": {},
   "source": [
    "#### Make a dict containing information about each page of the VMS"
   ]
  },
  {
   "cell_type": "code",
   "execution_count": 6,
   "metadata": {},
   "outputs": [],
   "source": [
    "# a class for a single folio\n",
    "# currently just contains state variables\n",
    "# will eventually have a show() method to display the page\n",
    "class Folio:\n",
    "    def __init__(self, name, quire, topic=\"?\", hand=0, lang=\"?\"):\n",
    "        self.name = name\n",
    "        self.quire = int(quire)\n",
    "        self.topic = topic\n",
    "        self.hand = int(hand)\n",
    "        self.lang = lang"
   ]
  },
  {
   "cell_type": "code",
   "execution_count": 7,
   "metadata": {},
   "outputs": [
    {
     "name": "stdout",
     "output_type": "stream",
     "text": [
      "     folio               topic  hand  quire language\n",
      "0      f1r           botanical     1      1        a\n",
      "1      f1v           botanical     1      1        a\n",
      "2      f2r           botanical     1      1        a\n",
      "3      f2v           botanical     1      1        a\n",
      "4      f3r           botanical     1      1        a\n",
      "..     ...                 ...   ...    ...      ...\n",
      "220  f114r  starred paragraphs     3     18        b\n",
      "221  f114v  starred paragraphs     3     18        b\n",
      "222  f115r  starred paragraphs     2     18        b\n",
      "223  f115v  starred paragraphs     3     18        b\n",
      "224  f116r  starred paragraphs     3     18        b\n",
      "\n",
      "[225 rows x 5 columns]\n",
      "<class 'pandas.core.frame.DataFrame'>\n"
     ]
    }
   ],
   "source": [
    "lfd_map = pd.read_csv(\"./../lfd_map_5.csv\")\n",
    "print(lfd_map)\n",
    "vms = {}\n",
    "for row in lfd_map.iterrows():\n",
    "    folio = Folio(row[1].folio, row[1].quire, row[1].topic, row[1].hand, row[1].language)\n",
    "    vms[folio.name] = folio\n",
    "\n",
    "print(type(lfd_map))"
   ]
  },
  {
   "cell_type": "markdown",
   "metadata": {},
   "source": [
    "## Fit LSA models"
   ]
  },
  {
   "cell_type": "code",
   "execution_count": 8,
   "metadata": {},
   "outputs": [],
   "source": [
    "# for TF\n",
    "#nmf_tf = LatentDirichletAllocation(n_topics=num_topics, random_state=0, max_iter=8)#, learning_method=\"online\", learning_offset=20.)\n",
    "#nmf_tf.fit(vms_tf)\n",
    "# for TFIDF\n",
    "num_topics = 6\n",
    "\n",
    "tfidf_vectorizer = TfidfVectorizer(max_df=0.95, min_df=2)\n",
    "vms_tfidf = tfidf_vectorizer.fit_transform(documents)\n",
    "\n",
    "# reset the topic labels\n",
    "for key in vms.keys():\n",
    "    vms[key].nmf_topic = 0\n",
    "\n",
    "svd_model = TruncatedSVD(n_components=num_topics)\n",
    "lsa_topics = svd_model.fit(vms_tfidf)\n",
    "#lsa_topics = svd_model.fit_transform(vms_tfidf)\n",
    "    \n",
    "#nmf_tfidf = NMF(n_components=num_topics, random_state=1, alpha=.1, l1_ratio=.5, init='nndsvd')\n",
    "#nmf_tfidf.fit(vms_tfidf)\n",
    "\n",
    "tfidf_feature_names = tfidf_vectorizer.get_feature_names()\n",
    "#print_top_words(lsa_topics, tfidf_feature_names, 10)\n",
    "\n",
    "lsa_embedding = lsa_topics.transform(vms_tfidf)\n",
    "lsa_embedding = (lsa_embedding - lsa_embedding.mean(axis=0))/lsa_embedding.std(axis=0)\n",
    "\n",
    "# assign each page to its nearest topic, and log that in the vms dict\n",
    "i = 0\n",
    "topic_col = []\n",
    "for topic in lsa_embedding.argmax(axis=1):\n",
    "    name = lfd_map['folio'].values[i]\n",
    "    vms[name].lsa_topic = topic\n",
    "    topic_col.append(topic)\n",
    "    i += 1\n",
    "lfd_map = lfd_map.assign(topic_nmf = topic_col)\n",
    "\n",
    "lfd_map.to_csv(\"./lsa_out/lsa_\"+str(num_topics)+\"_map.csv\")"
   ]
  },
  {
   "cell_type": "markdown",
   "metadata": {},
   "source": [
    "## Making sense of the data\n",
    "\n",
    "Using techniques from https://www.kaggle.com/xdsarkar/nips-papers-visualized-with-nmf-and-t-sne\n",
    "\n",
    "First, we transform the tfidf-matrix into an nmf-embedding, and look at which folios are most closely associated with each topic"
   ]
  },
  {
   "cell_type": "code",
   "execution_count": 9,
   "metadata": {
    "scrolled": false
   },
   "outputs": [
    {
     "name": "stdout",
     "output_type": "stream",
     "text": [
      "[[217 210 216 213 157 149 208 209 224 212 151 147 211 202 162 152 153 144\n",
      "  203 146]\n",
      " [ 40  26 109   3  19   9   0  53  15  35   6  34  17  37  61  18  95  80\n",
      "   90  27]\n",
      " [ 76 220  59  62 137 130 142 112 131 128 107  75 132 138 135 134 168 219\n",
      "  136 207]\n",
      " [174 214 124 173 202 190 180 172 213 198 194 193 192 197 195 196 175 199\n",
      "  200 201]\n",
      " [203 202 221 154 222 205 213 223 158 217 224 209 204 208 218 214 211 215\n",
      "  210 219]\n",
      " [145 188 168 211 113  75 204 105 184 186 104 172  76  31 154 106 155 152\n",
      "  167 187]]\n",
      "\n",
      "Topic 0:\n",
      "(0) f76r: hand 2, language b, balneological\n",
      "(0) f103v: hand 3, language b, starred paragraphs\n",
      "(0) f75r: hand 2, language b, balneological\n",
      "(0) f79v: hand 2, language b, balneological\n",
      "(0) f79r: hand 2, language b, balneological\n",
      "(0) f84r: hand 2, language b, balneological\n",
      "(0) f103r: hand 3, language b, starred paragraphs\n",
      "(0) f107v: hand 3, language b, starred paragraphs\n",
      "(0) f76v: hand 2, language b, balneological\n",
      "(0) f78v: hand 2, language b, balneological\n",
      "(0) f108r: hand 3, language b, starred paragraphs\n",
      "(0) f116r: hand 3, language b, starred paragraphs\n",
      "(0) f106v: hand 3, language b, starred paragraphs\n",
      "(0) f106r: hand 3, language b, starred paragraphs\n",
      "(0) f77v: hand 2, language b, balneological\n",
      "(0) f81v: hand 2, language b, balneological\n",
      "(0) f108v: hand 3, language b, starred paragraphs\n",
      "(0) f112r: hand 3, language b, starred paragraphs\n",
      "(0) f107r: hand 3, language b, starred paragraphs\n",
      "(0) f112v: hand 3, language b, starred paragraphs\n",
      "\n",
      "Topic 1:\n",
      "(0) f15v: hand 1, language a, botanical\n",
      "(0) f47r: hand 1, language a, botanical\n",
      "(0) f42r: hand 1, language a, botanical\n",
      "(0) f49v: hand 1, language a, botanical\n",
      "(0) f10r: hand 1, language a, botanical\n",
      "(0) f32v: hand 1, language a, botanical\n",
      "(0) f20v: hand 1, language a, botanical\n",
      "(0) f9v: hand 1, language a, botanical\n",
      "(0) f19r: hand 1, language a, botanical\n",
      "(0) f4r: hand 1, language a, botanical\n",
      "(0) f19v: hand 1, language a, botanical\n",
      "(0) f8v: hand 1, language a, botanical\n",
      "(0) f28v: hand 1, language a, botanical\n",
      "(0) f1r: hand 1, language a, botanical\n",
      "(0) f5v: hand 1, language a, botanical\n",
      "(0) f10v: hand 1, language a, botanical\n",
      "(0) f2v: hand 1, language a, botanical\n",
      "(0) f56v: hand 1, language a, botanical\n",
      "(0) f15r: hand 1, language a, botanical\n",
      "(0) f22r: hand 1, language a, botanical\n",
      "\n",
      "Topic 2:\n",
      "(0) f105v: hand 3, language b, starred paragraphs\n",
      "(0) f72r1: hand 4, language b, astrology\n",
      "(0) f113v: hand 3, language b, starred paragraphs\n",
      "(0) f86v5: hand 2, language b, rose\n",
      "(0) f71r: hand 4, language b, astrology\n",
      "(0) f71v: hand 4, language b, astrology\n",
      "(0) f72r3: hand 4, language b, astrology\n",
      "(0) f70v2: hand 4, language b, astrology\n",
      "(0) f39v: hand 2, language b, botanical\n",
      "(0) f55v: hand 2, language b, botanical\n",
      "(0) f69r: hand 4, language b, astrology\n",
      "(0) f70r2: hand 4, language b, astrology\n",
      "(0) f58r: hand 3, language b, unknown\n",
      "(0) f73r: hand 4, language b, astrology\n",
      "(0) f70r1: hand 4, language b, astrology\n",
      "(0) f72r2: hand 4, language b, astrology\n",
      "(0) f33r: hand 2, language b, botanical\n",
      "(0) f31v: hand 2, language b, botanical\n",
      "(0) f114r: hand 3, language b, starred paragraphs\n",
      "(0) f40r: hand 2, language b, botanical\n",
      "\n",
      "Topic 3:\n",
      "(0) f102v1: hand 1, language a, recipes\n",
      "(0) f102v2: hand 1, language a, recipes\n",
      "(0) f102r2: hand 1, language a, recipes\n",
      "(0) f89r2: hand 1, language a, recipes\n",
      "(0) f101r1: hand 1, language a, recipes\n",
      "(0) f100v: hand 1, language a, recipes\n",
      "(0) f101v2: hand 1, language a, recipes\n",
      "(0) f99r: hand 1, language a, recipes\n",
      "(0) f99v: hand 1, language a, recipes\n",
      "(0) f100r: hand 1, language a, recipes\n",
      "(0) f102r1: hand 1, language a, recipes\n",
      "(0) f108v: hand 3, language b, starred paragraphs\n",
      "(0) f88r: hand 1, language a, recipes\n",
      "(0) f90v2: hand 1, language a, botanical\n",
      "(0) f96r: hand 1, language a, botanical\n",
      "(0) f103r: hand 3, language b, starred paragraphs\n",
      "(0) f88v: hand 1, language a, recipes\n",
      "(0) f68r3: hand 4, language b, astrology\n",
      "(0) f111r: hand 3, language b, starred paragraphs\n",
      "(0) f89r1: hand 1, language a, recipes\n",
      "\n",
      "Topic 4:\n",
      "(0) f113v: hand 3, language b, starred paragraphs\n",
      "(0) f107r: hand 3, language b, starred paragraphs\n",
      "(0) f111v: hand 3, language b, starred paragraphs\n",
      "(0) f107v: hand 3, language b, starred paragraphs\n",
      "(0) f111r: hand 3, language b, starred paragraphs\n",
      "(0) f113r: hand 3, language b, starred paragraphs\n",
      "(0) f106r: hand 3, language b, starred paragraphs\n",
      "(0) f104r: hand 3, language b, starred paragraphs\n",
      "(0) f106v: hand 3, language b, starred paragraphs\n",
      "(0) f116r: hand 3, language b, starred paragraphs\n",
      "(0) f112v: hand 3, language b, starred paragraphs\n",
      "(0) f82r: hand 2, language b, balneological\n",
      "(0) f115v: hand 3, language b, starred paragraphs\n",
      "(0) f108v: hand 3, language b, starred paragraphs\n",
      "(0) f104v: hand 3, language b, starred paragraphs\n",
      "(0) f115r: hand 2, language b, starred paragraphs\n",
      "(0) f80r: hand 2, language b, balneological\n",
      "(0) f114v: hand 3, language b, starred paragraphs\n",
      "(0) f103r: hand 3, language b, starred paragraphs\n",
      "(0) f103v: hand 3, language b, starred paragraphs\n",
      "\n",
      "Topic 5:\n",
      "(0) f95r2: hand 3, language b, botanical\n",
      "(0) f86v6: hand 2, language b, rose\n",
      "(0) f79r: hand 2, language b, balneological\n",
      "(0) f80v: hand 2, language b, balneological\n",
      "(0) f55r: hand 2, language b, botanical\n",
      "(0) f80r: hand 2, language b, balneological\n",
      "(0) f17v: hand 1, language a, botanical\n",
      "(0) f40r: hand 2, language b, botanical\n",
      "(0) f88r: hand 1, language a, recipes\n",
      "(0) f54r: hand 1, language a, botanical\n",
      "(0) f95r1: hand 3, language b, botanical\n",
      "(0) f94r: hand 3, language b, botanical\n",
      "(0) f54v: hand 1, language a, botanical\n",
      "(0) f104r: hand 3, language b, starred paragraphs\n",
      "(0) f39v: hand 2, language b, botanical\n",
      "(0) f58v: hand 3, language b, unknown\n",
      "(0) f107v: hand 3, language b, starred paragraphs\n",
      "(0) f86v5: hand 2, language b, rose\n",
      "(0) f95v2: hand 3, language b, botanical\n",
      "(0) f75v: hand 2, language b, balneological\n"
     ]
    }
   ],
   "source": [
    "top_n = 20 #how many pages\n",
    "\n",
    "top_idx = np.argsort(lsa_embedding,axis=0)[-top_n:]\n",
    "\n",
    "print(top_idx.T)\n",
    "\n",
    "# output into a file\n",
    "outfile = open('./lsa_out/map_'+str(num_topics)+'_topics_top_'+str(top_n)+'.txt', 'w') \n",
    "\n",
    "count = 0\n",
    "for idxs in top_idx.T: \n",
    "    print(\"\\nTopic {}:\".format(count))\n",
    "    print(\"\\nTopic {}:\".format(count), file=outfile)\n",
    "    for idx in np.flip(idxs): # they're in reverse order\n",
    "        folio = vms_mapping[idx]\n",
    "        # print twice to get both file output and stdout in the notebook\n",
    "        print(\"(\"+str(vms[folio].nmf_topic)+\") \"+folio+\": hand \"+str(vms[folio].hand)+\", language \"+vms[folio].lang+\", \"+vms[folio].topic)\n",
    "        print(\"(\"+str(vms[folio].nmf_topic)+\") \"+folio+\": hand \"+str(vms[folio].hand)+\", language \"+vms[folio].lang+\", \"+vms[folio].topic, file=outfile)\n",
    "    count += 1\n",
    "outfile.close()\n"
   ]
  },
  {
   "cell_type": "markdown",
   "metadata": {},
   "source": [
    "### Visualize the results with t-SNE"
   ]
  },
  {
   "cell_type": "code",
   "execution_count": 10,
   "metadata": {},
   "outputs": [
    {
     "data": {
      "text/plain": [
       "<matplotlib.legend.Legend at 0x108ff2490>"
      ]
     },
     "execution_count": 10,
     "metadata": {},
     "output_type": "execute_result"
    },
    {
     "data": {
      "image/png": "[encoded data removed]",
      "text/plain": [
       "<Figure size 576x576 with 1 Axes>"
      ]
     },
     "metadata": {
      "needs_background": "light"
     },
     "output_type": "display_data"
    }
   ],
   "source": [
    "# set your colormap here\n",
    "# https://matplotlib.org/3.1.1/gallery/color/colormap_reference.html\n",
    "colormap = \"Dark2\"\n",
    "\n",
    "# make a t-SNE embedding\n",
    "tsne = TSNE()#pass in int random_state for deterministic behavior\n",
    "tsne_embedding = tsne.fit_transform(lsa_embedding)\n",
    "tsne_embedding = pd.DataFrame(tsne_embedding,columns=['x','y'])\n",
    "\n",
    "# get the colors to put in the legend\n",
    "cmap = matplotlib.cm.get_cmap(colormap)\n",
    "color_list = cmap(range(0, num_topics))\n",
    "legend_list, topics = [], []\n",
    "for i in range(num_topics): \n",
    "    legend_list.append(mpatches.Ellipse((0,0), 1, 1, fc=color_list[i]))\n",
    "    topics.append(\"Topic \"+str(i))\n",
    "# now force these colors to be used in the plot\n",
    "tsne_color = []\n",
    "for i in lsa_embedding.argmax(axis=1): tsne_color.append(color_list[i])\n",
    "tsne_embedding = tsne_embedding.assign(color= tsne_color)\n",
    "\n",
    "# plot!\n",
    "fig = plt.figure(figsize=(8,8))\n",
    "ax = plt.gca()\n",
    "ax.axis('off')\n",
    "ax.scatter(x=tsne_embedding['x'], y=tsne_embedding['y'], s=6, c=tsne_embedding['color'])\n",
    "fig.legend(legend_list, topics, loc=(0.1, 0.79))"
   ]
  },
  {
   "cell_type": "markdown",
   "metadata": {},
   "source": [
    "Print Words"
   ]
  },
  {
   "cell_type": "code",
   "execution_count": 11,
   "metadata": {},
   "outputs": [],
   "source": [
    "def display_topics(model, feature_names, no_top_words):\n",
    "    for topic_idx, topic in enumerate(model.components_):\n",
    "        print(\"Topic %d:\" % (topic_idx))\n",
    "        print(\" \".join([feature_names[i]\n",
    "                        for i in topic.argsort()[:-no_top_words - 1:-1]]))"
   ]
  },
  {
   "cell_type": "code",
   "execution_count": 12,
   "metadata": {},
   "outputs": [],
   "source": [
    "def print_results(model, feature_names, no_top_words, topics, vms_mapping):\n",
    "    display_topics(model, feature_names, no_top_words)\n",
    "    print(\"\\n\")\n",
    "    for t in range(len(topics)):\n",
    "        print(\"{}: {}\".format(vms_mapping[t], topics[t].argmax()))"
   ]
  },
  {
   "cell_type": "code",
   "execution_count": 13,
   "metadata": {},
   "outputs": [
    {
     "name": "stdout",
     "output_type": "stream",
     "text": [
      "Topic 0:\n",
      "chedy daiin shedy ol aiin chol or ar qokeedy qokedy qokain chey qokeey qokaiin shey al dar chor dal okaiin\n",
      "Topic 1:\n",
      "daiin chol chor cthy chy shol sho cthol cthor shor shy cho dy chaiin dain qotchy otchy cheor dor cthey\n",
      "Topic 2:\n",
      "aiin ar al or okar air otaiin oteos oteey okaiin otar oteody okal cheody chdy otal am dar ykar okeey\n",
      "Topic 3:\n",
      "okeol cheol qokeey qokeol okeey cheor cheey sheol shey ckhey cheody ol cheo oteey okey qokeody okol qokeedy chey dol\n",
      "Topic 4:\n",
      "qokaiin al qokain qokeedy otaiin ar qokeey chey lkaiin qotaiin lchedy oteey chy raiin lkeey qotain chaiin otain okaiin chol\n",
      "Topic 5:\n",
      "or qokain ol qokar qokaiin qokal okar chol okaiin qokol otain okain okal qodaiin olkain kaiin qokeol qotaiin qol cheor\n",
      "\n",
      "\n"
     ]
    },
    {
     "ename": "TypeError",
     "evalue": "object of type 'TruncatedSVD' has no len()",
     "output_type": "error",
     "traceback": [
      "\u001b[0;31m---------------------------------------------------------------------------\u001b[0m",
      "\u001b[0;31mTypeError\u001b[0m                                 Traceback (most recent call last)",
      "\u001b[0;32m<ipython-input-13-da2d36caffad>\u001b[0m in \u001b[0;36m<module>\u001b[0;34m\u001b[0m\n\u001b[0;32m----> 1\u001b[0;31m \u001b[0mprint_results\u001b[0m\u001b[0;34m(\u001b[0m\u001b[0msvd_model\u001b[0m\u001b[0;34m,\u001b[0m \u001b[0mtfidf_vectorizer\u001b[0m\u001b[0;34m.\u001b[0m\u001b[0mget_feature_names\u001b[0m\u001b[0;34m(\u001b[0m\u001b[0;34m)\u001b[0m\u001b[0;34m,\u001b[0m \u001b[0;36m20\u001b[0m\u001b[0;34m,\u001b[0m \u001b[0mlsa_topics\u001b[0m\u001b[0;34m,\u001b[0m \u001b[0mvms_mapping\u001b[0m\u001b[0;34m)\u001b[0m\u001b[0;34m\u001b[0m\u001b[0;34m\u001b[0m\u001b[0m\n\u001b[0m",
      "\u001b[0;32m<ipython-input-12-841466f5ef00>\u001b[0m in \u001b[0;36mprint_results\u001b[0;34m(model, feature_names, no_top_words, topics, vms_mapping)\u001b[0m\n\u001b[1;32m      2\u001b[0m     \u001b[0mdisplay_topics\u001b[0m\u001b[0;34m(\u001b[0m\u001b[0mmodel\u001b[0m\u001b[0;34m,\u001b[0m \u001b[0mfeature_names\u001b[0m\u001b[0;34m,\u001b[0m \u001b[0mno_top_words\u001b[0m\u001b[0;34m)\u001b[0m\u001b[0;34m\u001b[0m\u001b[0;34m\u001b[0m\u001b[0m\n\u001b[1;32m      3\u001b[0m     \u001b[0mprint\u001b[0m\u001b[0;34m(\u001b[0m\u001b[0;34m\"\\n\"\u001b[0m\u001b[0;34m)\u001b[0m\u001b[0;34m\u001b[0m\u001b[0;34m\u001b[0m\u001b[0m\n\u001b[0;32m----> 4\u001b[0;31m     \u001b[0;32mfor\u001b[0m \u001b[0mt\u001b[0m \u001b[0;32min\u001b[0m \u001b[0mrange\u001b[0m\u001b[0;34m(\u001b[0m\u001b[0mlen\u001b[0m\u001b[0;34m(\u001b[0m\u001b[0mtopics\u001b[0m\u001b[0;34m)\u001b[0m\u001b[0;34m)\u001b[0m\u001b[0;34m:\u001b[0m\u001b[0;34m\u001b[0m\u001b[0;34m\u001b[0m\u001b[0m\n\u001b[0m\u001b[1;32m      5\u001b[0m         \u001b[0mprint\u001b[0m\u001b[0;34m(\u001b[0m\u001b[0;34m\"{}: {}\"\u001b[0m\u001b[0;34m.\u001b[0m\u001b[0mformat\u001b[0m\u001b[0;34m(\u001b[0m\u001b[0mvms_mapping\u001b[0m\u001b[0;34m[\u001b[0m\u001b[0mt\u001b[0m\u001b[0;34m]\u001b[0m\u001b[0;34m,\u001b[0m \u001b[0mtopics\u001b[0m\u001b[0;34m[\u001b[0m\u001b[0mt\u001b[0m\u001b[0;34m]\u001b[0m\u001b[0;34m.\u001b[0m\u001b[0margmax\u001b[0m\u001b[0;34m(\u001b[0m\u001b[0;34m)\u001b[0m\u001b[0;34m)\u001b[0m\u001b[0;34m)\u001b[0m\u001b[0;34m\u001b[0m\u001b[0;34m\u001b[0m\u001b[0m\n",
      "\u001b[0;31mTypeError\u001b[0m: object of type 'TruncatedSVD' has no len()"
     ]
    }
   ],
   "source": [
    "print_results(svd_model, tfidf_vectorizer.get_feature_names(), 20, lsa_topics, vms_mapping)"
   ]
  }
 ],
 "metadata": {
  "kernelspec": {
   "display_name": "Python 3",
   "language": "python",
   "name": "python3"
  },
  "language_info": {
   "codemirror_mode": {
    "name": "ipython",
    "version": 3
   },
   "file_extension": ".py",
   "mimetype": "text/x-python",
   "name": "python",
   "nbconvert_exporter": "python",
   "pygments_lexer": "ipython3",
   "version": "3.7.5"
  }
 },
 "nbformat": 4,
 "nbformat_minor": 1
}

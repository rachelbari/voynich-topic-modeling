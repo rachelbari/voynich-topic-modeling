{
 "cells": [
  {
   "cell_type": "markdown",
   "metadata": {},
   "source": [
    "# `LDA visualization`\n",
    "\n",
    "Modified from the pyLDAvis scikit-learn example notebook."
   ]
  },
  {
   "cell_type": "code",
   "execution_count": 1,
   "metadata": {
    "scrolled": true
   },
   "outputs": [],
   "source": [
    "import re, io, os\n",
    "import pickle\n",
    "import numpy as np\n",
    "import pandas as pd\n",
    "from collections import defaultdict\n",
    "import urllib.request\n",
    "import random\n",
    "random.seed(13)"
   ]
  },
  {
   "cell_type": "code",
   "execution_count": 2,
   "metadata": {},
   "outputs": [],
   "source": [
    "from sklearn.feature_extraction.text import CountVectorizer, TfidfVectorizer\n",
    "from sklearn.decomposition import NMF, LatentDirichletAllocation\n",
    "from sklearn.manifold import TSNE\n",
    "\n",
    "import matplotlib.pyplot as plt\n",
    "import matplotlib.patches as mpatches\n",
    "import matplotlib\n",
    "%matplotlib inline"
   ]
  },
  {
   "cell_type": "markdown",
   "metadata": {},
   "source": [
    "## Helper Functions"
   ]
  },
  {
   "cell_type": "code",
   "execution_count": 3,
   "metadata": {},
   "outputs": [],
   "source": [
    "def tokenize(data):\n",
    "    index = defaultdict(str)\n",
    "    \n",
    "    with urllib.request.urlopen(data) as file:\n",
    "        for line in file.read().decode('latin-1').splitlines():\n",
    "            # pull out takahashi lines\n",
    "            m = re.match(r'^<(f.*?)\\..*;H> +(\\S.*)$', line)\n",
    "            if not m:\n",
    "                continue\n",
    "\n",
    "            transcription = m.group(2)\n",
    "            pg = str(m.group(1))\n",
    "\n",
    "            # ignore entire line if it has a {&NNN} or {&.} code\n",
    "            if re.search(r'\\{&(\\d|\\.)+\\}', transcription):\n",
    "                continue\n",
    "\n",
    "            # remove extraneous chracters ! and %\n",
    "            s = transcription.replace(\"!\", \"\").replace(\"%\", \"\")\n",
    "            \n",
    "            # delete all end of line {comments} (between one and three observed)\n",
    "            # ...with optional line terminator\n",
    "            # allow 0 occurences to remove end-of-line markers (- or =)\n",
    "            s = re.sub(r'([-=]?\\{[^\\{\\}]+?\\}){0,3}[-=]?\\s*$', \"\", s)\n",
    "\n",
    "            # delete start of line {comments} (single or double)\n",
    "            s = re.sub(r'^(\\{[^\\{\\}]+?\\}){1,2}', \"\", s)\n",
    "\n",
    "            # simplification: tags preceeded by -= are word breaks\n",
    "            s = re.sub(r'[-=]\\{[^\\{\\}]+?\\}', '.', s)\n",
    "\n",
    "            # these tags are nulls\n",
    "            # plant is a null in one case where it is just {plant}\n",
    "            # otherwise (above) it is a word break\n",
    "            # s = re.sub(r'\\{(fold|crease|blot|&\\w.?|plant)\\}', \"\", s)\n",
    "            # simplification: remaining tags in curly brackets\n",
    "            s = re.sub(r'\\{[^\\{\\}]+?\\}', '', s)\n",
    "\n",
    "            # special case .{\\} is still a word break\n",
    "            s = re.sub(r'\\.\\{\\\\\\}', \".\", s)\n",
    "\n",
    "            # split on word boundaries\n",
    "            # exclude null words ('')\n",
    "            words = [str(w) for w in s.split(\".\") if w]\n",
    "            paragraph = ' '.join(words).lstrip()\n",
    "            \n",
    "            index[pg] += (paragraph)\n",
    "\n",
    "    return index\n"
   ]
  },
  {
   "cell_type": "code",
   "execution_count": 4,
   "metadata": {},
   "outputs": [],
   "source": [
    "def print_top_words(model, feature_names, n_top_words):\n",
    "    for topic_idx, topic in enumerate(model.components_):\n",
    "        print(\"\\nTopic #%d:\" % topic_idx)\n",
    "        print(\" \".join([feature_names[i]\n",
    "                        for i in topic.argsort()[:-n_top_words - 1:-1]]))\n",
    "    print()"
   ]
  },
  {
   "cell_type": "markdown",
   "metadata": {},
   "source": [
    "## Load Voynich Data\n",
    "\n",
    "Load the Pickle files produced by vms_vectorize.py"
   ]
  },
  {
   "cell_type": "code",
   "execution_count": 5,
   "metadata": {},
   "outputs": [],
   "source": [
    "index = tokenize(\"https://raw.githubusercontent.com/rachelbari/voynich-topic-modeling/master/data/text16e6.evt\")\n",
    "documents = [index[key] for key in index.keys()]\n",
    "vms_mapping = [k for k in index.keys()]"
   ]
  },
  {
   "cell_type": "markdown",
   "metadata": {},
   "source": [
    "#### Make a dict containing information about each page of the VMS"
   ]
  },
  {
   "cell_type": "code",
   "execution_count": 6,
   "metadata": {},
   "outputs": [],
   "source": [
    "# a class for a single folio\n",
    "# currently just contains state variables\n",
    "# will eventually have a show() method to display the page\n",
    "class Folio:\n",
    "    def __init__(self, name, quire, topic=\"?\", hand=0, lang=\"?\"):\n",
    "        self.name = name\n",
    "        self.quire = int(quire)\n",
    "        self.topic = topic\n",
    "        self.hand = int(hand)\n",
    "        self.lang = lang"
   ]
  },
  {
   "cell_type": "code",
   "execution_count": 7,
   "metadata": {},
   "outputs": [
    {
     "name": "stdout",
     "output_type": "stream",
     "text": [
      "     folio               topic  hand  quire language\n",
      "0      f1r           botanical     1      1        a\n",
      "1      f1v           botanical     1      1        a\n",
      "2      f2r           botanical     1      1        a\n",
      "3      f2v           botanical     1      1        a\n",
      "4      f3r           botanical     1      1        a\n",
      "..     ...                 ...   ...    ...      ...\n",
      "220  f114r  starred paragraphs     3     18        b\n",
      "221  f114v  starred paragraphs     3     18        b\n",
      "222  f115r  starred paragraphs     2     18        b\n",
      "223  f115v  starred paragraphs     3     18        b\n",
      "224  f116r  starred paragraphs     3     18        b\n",
      "\n",
      "[225 rows x 5 columns]\n",
      "<class 'pandas.core.frame.DataFrame'>\n"
     ]
    }
   ],
   "source": [
    "lfd_map = pd.read_csv(\"./../lfd_map_5.csv\")\n",
    "print(lfd_map)\n",
    "vms = {}\n",
    "for row in lfd_map.iterrows():\n",
    "    folio = Folio(row[1].folio, row[1].quire, row[1].topic, row[1].hand, row[1].language)\n",
    "    vms[folio.name] = folio\n",
    "\n",
    "print(type(lfd_map))"
   ]
  },
  {
   "cell_type": "markdown",
   "metadata": {},
   "source": [
    "## Fit LDA models"
   ]
  },
  {
   "cell_type": "code",
   "execution_count": 8,
   "metadata": {},
   "outputs": [
    {
     "name": "stdout",
     "output_type": "stream",
     "text": [
      "  (0, 1847)\t1\n",
      "  (0, 59)\t2\n",
      "  (0, 1727)\t2\n",
      "  (0, 1735)\t1\n",
      "  (0, 685)\t2\n",
      "  (0, 395)\t1\n",
      "  (0, 1116)\t3\n",
      "  (0, 614)\t1\n",
      "  (0, 378)\t1\n",
      "  (0, 1590)\t1\n",
      "  (0, 435)\t2\n",
      "  (0, 1659)\t1\n",
      "  (0, 1844)\t1\n",
      "  (0, 1710)\t1\n",
      "  (0, 443)\t1\n",
      "  (0, 513)\t1\n",
      "  (0, 1206)\t1\n",
      "  (0, 1215)\t1\n",
      "  (0, 431)\t1\n",
      "  (0, 465)\t4\n",
      "  (0, 1138)\t1\n",
      "  (0, 140)\t1\n",
      "  (0, 432)\t1\n",
      "  (0, 414)\t1\n",
      "  (0, 1715)\t2\n",
      "  :\t:\n",
      "  (224, 1016)\t1\n",
      "  (224, 738)\t4\n",
      "  (224, 1435)\t1\n",
      "  (224, 1539)\t8\n",
      "  (224, 1266)\t1\n",
      "  (224, 1356)\t1\n",
      "  (224, 706)\t1\n",
      "  (224, 1630)\t1\n",
      "  (224, 1196)\t1\n",
      "  (224, 1079)\t1\n",
      "  (224, 772)\t1\n",
      "  (224, 247)\t1\n",
      "  (224, 1819)\t1\n",
      "  (224, 778)\t1\n",
      "  (224, 1693)\t1\n",
      "  (224, 1150)\t1\n",
      "  (224, 1598)\t1\n",
      "  (224, 890)\t1\n",
      "  (224, 1652)\t1\n",
      "  (224, 1156)\t1\n",
      "  (224, 1009)\t1\n",
      "  (224, 721)\t1\n",
      "  (224, 747)\t1\n",
      "  (224, 1186)\t1\n",
      "  (224, 1056)\t2\n"
     ]
    }
   ],
   "source": [
    "# for TF\n",
    "#nmf_tf = LatentDirichletAllocation(n_topics=num_topics, random_state=0, max_iter=8)#, learning_method=\"online\", learning_offset=20.)\n",
    "#nmf_tf.fit(vms_tf)\n",
    "# for TFIDF\n",
    "num_topics = 6\n",
    "\n",
    "# reset the topic labels\n",
    "for key in vms.keys():\n",
    "    vms[key].nmf_topic = 0\n",
    "    \n",
    "tf_vectorizer = CountVectorizer(max_df=0.95, min_df=2)\n",
    "#vms_tf= tf_vectorizer.fit_transform(documents)\n",
    "vms_tf= tf_vectorizer.fit_transform(documents)\n",
    "print(vms_tf)\n",
    "\n",
    "lda = LatentDirichletAllocation(n_components=num_topics, max_iter=5, learning_method='online', learning_offset=50.,random_state=0)\n",
    "lda_topics = lda.fit(vms_tf)\n",
    "#lda_topics = lda.transform(vms_tf)\n",
    "\n",
    "tf_feature_names = tf_vectorizer.get_feature_names()\n",
    "#print_top_words(lda_topics, tf_feature_names, 10)\n",
    "\n",
    "lda_embedding = lda_topics.transform(vms_tf)\n",
    "lda_embedding = (lda_embedding - lda_embedding.mean(axis=0))/lda_embedding.std(axis=0)\n",
    "\n",
    "# assign each page to its nearest topic, and log that in the vms dict\n",
    "i = 0\n",
    "topic_col = []\n",
    "for topic in lda_embedding.argmax(axis=1):\n",
    "    name = lfd_map['folio'].values[i]\n",
    "    vms[name].lda_embedding = topic\n",
    "    topic_col.append(topic)\n",
    "    i += 1\n",
    "lfd_map = lfd_map.assign(topic_nmf = topic_col)\n",
    "\n",
    "lfd_map.to_csv(\"./lda_out/lda_\"+str(num_topics)+\"_map.csv\")"
   ]
  },
  {
   "cell_type": "markdown",
   "metadata": {},
   "source": [
    "## Making sense of the data\n",
    "\n",
    "Using techniques from https://www.kaggle.com/xdsarkar/nips-papers-visualized-with-nmf-and-t-sne\n",
    "\n",
    "First, we transform the tfidf-matrix into an nmf-embedding, and look at which folios are most closely associated with each topic"
   ]
  },
  {
   "cell_type": "code",
   "execution_count": 9,
   "metadata": {
    "scrolled": false
   },
   "outputs": [
    {
     "name": "stdout",
     "output_type": "stream",
     "text": [
      "[[ 51   9  21 191  72 115 111 122 121 120 114  12  57  33 119  39  71   5\n",
      "  102  46]\n",
      " [  8  60  39 179  47  68 102 123  51   9  46  21 191  72 115 111 122 121\n",
      "  120 114]\n",
      " [217 204 144 222 205 154 209 211 210 203 167 219 218 212 202 224 215 213\n",
      "  146 214]\n",
      " [ 60  39 179  47  68 102 123  51   9  46  21 191  72 115 111 122 121 120\n",
      "  114  24]\n",
      " [  8  60  39 179  47  68 102 123  51   9  46  21 191  72 115 111 122 121\n",
      "  120 114]\n",
      " [ 39 179  47  68 102 123   9  46  21 191  72 115 111 121 120 114  10  55\n",
      "   51 122]]\n",
      "\n",
      "Topic 0:\n",
      "(0) f25r: hand 1, language a, botanical\n",
      "(0) f53r: hand 1, language a, botanical\n",
      "(0) f3v: hand 1, language a, botanical\n",
      "(0) f37v: hand 1, language a, botanical\n",
      "(0) f21v: hand 1, language a, botanical\n",
      "(0) f67r2: hand 4, language b, astrology\n",
      "(0) f18v: hand 1, language a, botanical\n",
      "(0) f30v: hand 1, language a, botanical\n",
      "(0) f7r: hand 1, language a, botanical\n",
      "(0) f65r: hand 3, language b, botanical\n",
      "(0) f67v2: hand 4, language b, astrology\n",
      "(0) f67v1: hand 4, language b, astrology\n",
      "(0) f68r1: hand 4, language b, astrology\n",
      "(0) f57v: hand 1, language unknown, unknown\n",
      "(0) f65v: hand 3, language b, botanical\n",
      "(0) f38r: hand 1, language a, botanical\n",
      "(0) f96v: hand 1, language a, botanical\n",
      "(0) f11v: hand 1, language a, botanical\n",
      "(0) f5v: hand 1, language a, botanical\n",
      "(0) f27v: hand 1, language a, botanical\n",
      "\n",
      "Topic 1:\n",
      "(0) f65r: hand 3, language b, botanical\n",
      "(0) f67v2: hand 4, language b, astrology\n",
      "(0) f67v1: hand 4, language b, astrology\n",
      "(0) f68r1: hand 4, language b, astrology\n",
      "(0) f57v: hand 1, language unknown, unknown\n",
      "(0) f65v: hand 3, language b, botanical\n",
      "(0) f38r: hand 1, language a, botanical\n",
      "(0) f96v: hand 1, language a, botanical\n",
      "(0) f11v: hand 1, language a, botanical\n",
      "(0) f25r: hand 1, language a, botanical\n",
      "(0) f5v: hand 1, language a, botanical\n",
      "(0) f27v: hand 1, language a, botanical\n",
      "(0) f68r2: hand 4, language b, astrology\n",
      "(0) f53r: hand 1, language a, botanical\n",
      "(0) f36r: hand 1, language a, botanical\n",
      "(0) f25v: hand 1, language a, botanical\n",
      "(0) f90r2: hand 1, language a, botanical\n",
      "(0) f21v: hand 1, language a, botanical\n",
      "(0) f32r: hand 1, language a, botanical\n",
      "(0) f5r: hand 1, language a, botanical\n",
      "\n",
      "Topic 2:\n",
      "(0) f111r: hand 3, language b, starred paragraphs\n",
      "(0) f76r: hand 2, language b, balneological\n",
      "(0) f108v: hand 3, language b, starred paragraphs\n",
      "(0) f111v: hand 3, language b, starred paragraphs\n",
      "(0) f116r: hand 3, language b, starred paragraphs\n",
      "(0) f103r: hand 3, language b, starred paragraphs\n",
      "(0) f108r: hand 3, language b, starred paragraphs\n",
      "(0) f113r: hand 3, language b, starred paragraphs\n",
      "(0) f113v: hand 3, language b, starred paragraphs\n",
      "(0) f86v6: hand 2, language b, rose\n",
      "(0) f103v: hand 3, language b, starred paragraphs\n",
      "(0) f107r: hand 3, language b, starred paragraphs\n",
      "(0) f107v: hand 3, language b, starred paragraphs\n",
      "(0) f106v: hand 3, language b, starred paragraphs\n",
      "(0) f80r: hand 2, language b, balneological\n",
      "(0) f104v: hand 3, language b, starred paragraphs\n",
      "(0) f115r: hand 2, language b, starred paragraphs\n",
      "(0) f75r: hand 2, language b, balneological\n",
      "(0) f104r: hand 3, language b, starred paragraphs\n",
      "(0) f112v: hand 3, language b, starred paragraphs\n",
      "\n",
      "Topic 3:\n",
      "(0) f14r: hand 1, language a, botanical\n",
      "(0) f65r: hand 3, language b, botanical\n",
      "(0) f67v2: hand 4, language b, astrology\n",
      "(0) f67v1: hand 4, language b, astrology\n",
      "(0) f68r1: hand 4, language b, astrology\n",
      "(0) f57v: hand 1, language unknown, unknown\n",
      "(0) f65v: hand 3, language b, botanical\n",
      "(0) f38r: hand 1, language a, botanical\n",
      "(0) f96v: hand 1, language a, botanical\n",
      "(0) f11v: hand 1, language a, botanical\n",
      "(0) f25r: hand 1, language a, botanical\n",
      "(0) f5v: hand 1, language a, botanical\n",
      "(0) f27v: hand 1, language a, botanical\n",
      "(0) f68r2: hand 4, language b, astrology\n",
      "(0) f53r: hand 1, language a, botanical\n",
      "(0) f36r: hand 1, language a, botanical\n",
      "(0) f25v: hand 1, language a, botanical\n",
      "(0) f90r2: hand 1, language a, botanical\n",
      "(0) f21v: hand 1, language a, botanical\n",
      "(0) f32r: hand 1, language a, botanical\n",
      "\n",
      "Topic 4:\n",
      "(0) f65r: hand 3, language b, botanical\n",
      "(0) f67v2: hand 4, language b, astrology\n",
      "(0) f67v1: hand 4, language b, astrology\n",
      "(0) f68r1: hand 4, language b, astrology\n",
      "(0) f57v: hand 1, language unknown, unknown\n",
      "(0) f65v: hand 3, language b, botanical\n",
      "(0) f38r: hand 1, language a, botanical\n",
      "(0) f96v: hand 1, language a, botanical\n",
      "(0) f11v: hand 1, language a, botanical\n",
      "(0) f25r: hand 1, language a, botanical\n",
      "(0) f5v: hand 1, language a, botanical\n",
      "(0) f27v: hand 1, language a, botanical\n",
      "(0) f68r2: hand 4, language b, astrology\n",
      "(0) f53r: hand 1, language a, botanical\n",
      "(0) f36r: hand 1, language a, botanical\n",
      "(0) f25v: hand 1, language a, botanical\n",
      "(0) f90r2: hand 1, language a, botanical\n",
      "(0) f21v: hand 1, language a, botanical\n",
      "(0) f32r: hand 1, language a, botanical\n",
      "(0) f5r: hand 1, language a, botanical\n",
      "\n",
      "Topic 5:\n",
      "(0) f68r1: hand 4, language b, astrology\n",
      "(0) f27v: hand 1, language a, botanical\n",
      "(0) f29v: hand 1, language a, botanical\n",
      "(0) f6r: hand 1, language a, botanical\n",
      "(0) f65r: hand 3, language b, botanical\n",
      "(0) f67v2: hand 4, language b, astrology\n",
      "(0) f67v1: hand 4, language b, astrology\n",
      "(0) f57v: hand 1, language unknown, unknown\n",
      "(0) f65v: hand 3, language b, botanical\n",
      "(0) f38r: hand 1, language a, botanical\n",
      "(0) f96v: hand 1, language a, botanical\n",
      "(0) f11v: hand 1, language a, botanical\n",
      "(0) f25r: hand 1, language a, botanical\n",
      "(0) f5v: hand 1, language a, botanical\n",
      "(0) f68r2: hand 4, language b, astrology\n",
      "(0) f53r: hand 1, language a, botanical\n",
      "(0) f36r: hand 1, language a, botanical\n",
      "(0) f25v: hand 1, language a, botanical\n",
      "(0) f90r2: hand 1, language a, botanical\n",
      "(0) f21v: hand 1, language a, botanical\n"
     ]
    }
   ],
   "source": [
    "top_n = 20 #how many pages\n",
    "\n",
    "top_idx = np.argsort(lda_embedding,axis=0)[-top_n:]\n",
    "\n",
    "print(top_idx.T)\n",
    "\n",
    "# output into a file\n",
    "outfile = open('./lda_out/map_'+str(num_topics)+'_topics_top_'+str(top_n)+'.txt', 'w') \n",
    "\n",
    "count = 0\n",
    "for idxs in top_idx.T: \n",
    "    print(\"\\nTopic {}:\".format(count))\n",
    "    print(\"\\nTopic {}:\".format(count), file=outfile)\n",
    "    for idx in np.flip(idxs): # they're in reverse order\n",
    "        folio = vms_mapping[idx]\n",
    "        # print twice to get both file output and stdout in the notebook\n",
    "        print(\"(\"+str(vms[folio].nmf_topic)+\") \"+folio+\": hand \"+str(vms[folio].hand)+\", language \"+vms[folio].lang+\", \"+vms[folio].topic)\n",
    "        print(\"(\"+str(vms[folio].nmf_topic)+\") \"+folio+\": hand \"+str(vms[folio].hand)+\", language \"+vms[folio].lang+\", \"+vms[folio].topic, file=outfile)\n",
    "    count += 1\n",
    "outfile.close()\n"
   ]
  },
  {
   "cell_type": "markdown",
   "metadata": {},
   "source": [
    "### Visualize the results with t-SNE"
   ]
  },
  {
   "cell_type": "code",
   "execution_count": 10,
   "metadata": {},
   "outputs": [
    {
     "data": {
      "text/plain": [
       "<matplotlib.legend.Legend at 0x108890fd0>"
      ]
     },
     "execution_count": 10,
     "metadata": {},
     "output_type": "execute_result"
    },
    {
     "data": {
      "image/png": "[encoded data removed]",
      "text/plain": [
       "<Figure size 576x576 with 1 Axes>"
      ]
     },
     "metadata": {
      "needs_background": "light"
     },
     "output_type": "display_data"
    }
   ],
   "source": [
    "# set your colormap here\n",
    "# https://matplotlib.org/3.1.1/gallery/color/colormap_reference.html\n",
    "colormap = \"Dark2\"\n",
    "\n",
    "# make a t-SNE embedding\n",
    "tsne = TSNE()#pass in int random_state for deterministic behavior\n",
    "tsne_embedding = tsne.fit_transform(lda_embedding)\n",
    "tsne_embedding = pd.DataFrame(tsne_embedding,columns=['x','y'])\n",
    "\n",
    "# get the colors to put in the legend\n",
    "cmap = matplotlib.cm.get_cmap(colormap)\n",
    "color_list = cmap(range(0, num_topics))\n",
    "legend_list, topics = [], []\n",
    "for i in range(num_topics): \n",
    "    legend_list.append(mpatches.Ellipse((0,0), 1, 1, fc=color_list[i]))\n",
    "    topics.append(\"Topic \"+str(i))\n",
    "# now force these colors to be used in the plot\n",
    "tsne_color = []\n",
    "for i in lda_embedding.argmax(axis=1): tsne_color.append(color_list[i])\n",
    "tsne_embedding = tsne_embedding.assign(color= tsne_color)\n",
    "\n",
    "# plot!\n",
    "fig = plt.figure(figsize=(8,8))\n",
    "ax = plt.gca()\n",
    "ax.axis('off')\n",
    "ax.scatter(x=tsne_embedding['x'], y=tsne_embedding['y'], s=6, c=tsne_embedding['color'])\n",
    "fig.legend(legend_list, topics, loc=(0.1, 0.79))"
   ]
  },
  {
   "cell_type": "code",
   "execution_count": null,
   "metadata": {},
   "outputs": [],
   "source": []
  },
  {
   "cell_type": "markdown",
   "metadata": {},
   "source": [
    "Print Words"
   ]
  },
  {
   "cell_type": "code",
   "execution_count": 17,
   "metadata": {},
   "outputs": [],
   "source": [
    "def display_topics(model, feature_names, no_top_words):\n",
    "    for topic_idx, topic in enumerate(model.components_):\n",
    "        print(\"Topic %d:\" % (topic_idx))\n",
    "        print(\" \".join([feature_names[i]\n",
    "                        for i in topic.argsort()[:-no_top_words - 1:-1]]))"
   ]
  },
  {
   "cell_type": "code",
   "execution_count": 18,
   "metadata": {},
   "outputs": [],
   "source": [
    "def print_results(model, feature_names, no_top_words, topics, vms_mapping):\n",
    "    display_topics(model, feature_names, no_top_words)\n",
    "    print(\"\\n\")\n",
    "    for t in range(len(topics)):\n",
    "        print(\"{}: {}\".format(vms_mapping[t], topics[t].argmax()))"
   ]
  },
  {
   "cell_type": "code",
   "execution_count": 19,
   "metadata": {},
   "outputs": [
    {
     "name": "stdout",
     "output_type": "stream",
     "text": [
      "Topic 0:\n",
      "daiin aiin chor chedy chol qokchy or otedy ar shedy shy qokedy cthor sho qoty qotchy chy qokeedy otar oky\n",
      "Topic 1:\n",
      "daiin chol dain oty chor sho cthy chy dal char ol dy chey cheo shom qotchol dol cthey do qotol\n",
      "Topic 2:\n",
      "daiin ol chedy aiin shedy chey chol ar or qokeedy qokeey shey qokain qokedy al qokaiin dar dal okaiin qokal\n",
      "Topic 3:\n",
      "daiin chy chol chor cheor chody dy sho shor dar chey okedy qoty tchy shoty qokedy kchy cthy cho shol\n",
      "Topic 4:\n",
      "daiin chol chor ar shol dain aiin chy or dar dal ol cthy okar sho chey chedy dy oky dor\n",
      "Topic 5:\n",
      "chor chol chy daiin sho shy shol cho chey dy or cthy okaiin aiin shor kchy cheey otaiin dchy cthey\n",
      "\n",
      "\n"
     ]
    },
    {
     "ename": "TypeError",
     "evalue": "object of type 'LatentDirichletAllocation' has no len()",
     "output_type": "error",
     "traceback": [
      "\u001b[0;31m---------------------------------------------------------------------------\u001b[0m",
      "\u001b[0;31mTypeError\u001b[0m                                 Traceback (most recent call last)",
      "\u001b[0;32m<ipython-input-19-3f659f24929e>\u001b[0m in \u001b[0;36m<module>\u001b[0;34m\u001b[0m\n\u001b[0;32m----> 1\u001b[0;31m \u001b[0mprint_results\u001b[0m\u001b[0;34m(\u001b[0m\u001b[0mlda\u001b[0m\u001b[0;34m,\u001b[0m \u001b[0mtf_vectorizer\u001b[0m\u001b[0;34m.\u001b[0m\u001b[0mget_feature_names\u001b[0m\u001b[0;34m(\u001b[0m\u001b[0;34m)\u001b[0m\u001b[0;34m,\u001b[0m \u001b[0;36m20\u001b[0m\u001b[0;34m,\u001b[0m \u001b[0mlda_topics\u001b[0m\u001b[0;34m,\u001b[0m \u001b[0mvms_mapping\u001b[0m\u001b[0;34m)\u001b[0m\u001b[0;34m\u001b[0m\u001b[0;34m\u001b[0m\u001b[0m\n\u001b[0m",
      "\u001b[0;32m<ipython-input-18-841466f5ef00>\u001b[0m in \u001b[0;36mprint_results\u001b[0;34m(model, feature_names, no_top_words, topics, vms_mapping)\u001b[0m\n\u001b[1;32m      2\u001b[0m     \u001b[0mdisplay_topics\u001b[0m\u001b[0;34m(\u001b[0m\u001b[0mmodel\u001b[0m\u001b[0;34m,\u001b[0m \u001b[0mfeature_names\u001b[0m\u001b[0;34m,\u001b[0m \u001b[0mno_top_words\u001b[0m\u001b[0;34m)\u001b[0m\u001b[0;34m\u001b[0m\u001b[0;34m\u001b[0m\u001b[0m\n\u001b[1;32m      3\u001b[0m     \u001b[0mprint\u001b[0m\u001b[0;34m(\u001b[0m\u001b[0;34m\"\\n\"\u001b[0m\u001b[0;34m)\u001b[0m\u001b[0;34m\u001b[0m\u001b[0;34m\u001b[0m\u001b[0m\n\u001b[0;32m----> 4\u001b[0;31m     \u001b[0;32mfor\u001b[0m \u001b[0mt\u001b[0m \u001b[0;32min\u001b[0m \u001b[0mrange\u001b[0m\u001b[0;34m(\u001b[0m\u001b[0mlen\u001b[0m\u001b[0;34m(\u001b[0m\u001b[0mtopics\u001b[0m\u001b[0;34m)\u001b[0m\u001b[0;34m)\u001b[0m\u001b[0;34m:\u001b[0m\u001b[0;34m\u001b[0m\u001b[0;34m\u001b[0m\u001b[0m\n\u001b[0m\u001b[1;32m      5\u001b[0m         \u001b[0mprint\u001b[0m\u001b[0;34m(\u001b[0m\u001b[0;34m\"{}: {}\"\u001b[0m\u001b[0;34m.\u001b[0m\u001b[0mformat\u001b[0m\u001b[0;34m(\u001b[0m\u001b[0mvms_mapping\u001b[0m\u001b[0;34m[\u001b[0m\u001b[0mt\u001b[0m\u001b[0;34m]\u001b[0m\u001b[0;34m,\u001b[0m \u001b[0mtopics\u001b[0m\u001b[0;34m[\u001b[0m\u001b[0mt\u001b[0m\u001b[0;34m]\u001b[0m\u001b[0;34m.\u001b[0m\u001b[0margmax\u001b[0m\u001b[0;34m(\u001b[0m\u001b[0;34m)\u001b[0m\u001b[0;34m)\u001b[0m\u001b[0;34m)\u001b[0m\u001b[0;34m\u001b[0m\u001b[0;34m\u001b[0m\u001b[0m\n",
      "\u001b[0;31mTypeError\u001b[0m: object of type 'LatentDirichletAllocation' has no len()"
     ]
    }
   ],
   "source": [
    "print_results(lda, tf_vectorizer.get_feature_names(), 20, lda_topics, vms_mapping)"
   ]
  },
  {
   "cell_type": "code",
   "execution_count": null,
   "metadata": {},
   "outputs": [],
   "source": []
  },
  {
   "cell_type": "code",
   "execution_count": null,
   "metadata": {},
   "outputs": [],
   "source": []
  }
 ],
 "metadata": {
  "kernelspec": {
   "display_name": "Python 3",
   "language": "python",
   "name": "python3"
  },
  "language_info": {
   "codemirror_mode": {
    "name": "ipython",
    "version": 3
   },
   "file_extension": ".py",
   "mimetype": "text/x-python",
   "name": "python",
   "nbconvert_exporter": "python",
   "pygments_lexer": "ipython3",
   "version": "3.7.5"
  }
 },
 "nbformat": 4,
 "nbformat_minor": 1
}

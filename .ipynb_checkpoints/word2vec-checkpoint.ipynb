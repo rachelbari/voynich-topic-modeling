{
 "cells": [
  {
   "cell_type": "markdown",
   "metadata": {},
   "source": [
    "# `NMF visualization`\n",
    "\n",
    "Modified from the pyLDAvis scikit-learn example notebook."
   ]
  },
  {
   "cell_type": "code",
   "execution_count": 1,
   "metadata": {
    "scrolled": true
   },
   "outputs": [],
   "source": [
    "import pyLDAvis\n",
    "import pyLDAvis.sklearn\n",
    "pyLDAvis.enable_notebook()\n",
    "import re, io, os\n",
    "import pickle\n",
    "import numpy as np\n",
    "import pandas as pd\n",
    "from collections import defaultdict\n",
    "import urllib.request\n",
    "import random\n",
    "random.seed(13)"
   ]
  },
  {
   "cell_type": "code",
   "execution_count": 2,
   "metadata": {},
   "outputs": [],
   "source": [
    "from sklearn.feature_extraction.text import CountVectorizer, TfidfVectorizer\n",
    "from sklearn.decomposition import NMF\n",
    "from sklearn.manifold import TSNE\n",
    "\n",
    "import matplotlib.pyplot as plt\n",
    "import matplotlib.patches as mpatches\n",
    "import matplotlib\n",
    "%matplotlib inline\n",
    "import seaborn as sns"
   ]
  },
  {
   "cell_type": "markdown",
   "metadata": {},
   "source": [
    "## Helper Functions"
   ]
  },
  {
   "cell_type": "code",
   "execution_count": 3,
   "metadata": {},
   "outputs": [],
   "source": [
    "def tokenize(data):\n",
    "    index = defaultdict(str)\n",
    "    \n",
    "    with urllib.request.urlopen(data) as file:\n",
    "        for line in file.read().decode('latin-1').splitlines():\n",
    "            # pull out takahashi lines\n",
    "            m = re.match(r'^<(f.*?)\\..*;H> +(\\S.*)$', line)\n",
    "            if not m:\n",
    "                continue\n",
    "\n",
    "            transcription = m.group(2)\n",
    "            pg = str(m.group(1))\n",
    "\n",
    "            # ignore entire line if it has a {&NNN} or {&.} code\n",
    "            if re.search(r'\\{&(\\d|\\.)+\\}', transcription):\n",
    "                continue\n",
    "\n",
    "            # remove extraneous chracters ! and %\n",
    "            s = transcription.replace(\"!\", \"\").replace(\"%\", \"\")\n",
    "            \n",
    "            # delete all end of line {comments} (between one and three observed)\n",
    "            # ...with optional line terminator\n",
    "            # allow 0 occurences to remove end-of-line markers (- or =)\n",
    "            s = re.sub(r'([-=]?\\{[^\\{\\}]+?\\}){0,3}[-=]?\\s*$', \"\", s)\n",
    "\n",
    "            # delete start of line {comments} (single or double)\n",
    "            s = re.sub(r'^(\\{[^\\{\\}]+?\\}){1,2}', \"\", s)\n",
    "\n",
    "            # simplification: tags preceeded by -= are word breaks\n",
    "            s = re.sub(r'[-=]\\{[^\\{\\}]+?\\}', '.', s)\n",
    "\n",
    "            # these tags are nulls\n",
    "            # plant is a null in one case where it is just {plant}\n",
    "            # otherwise (above) it is a word break\n",
    "            # s = re.sub(r'\\{(fold|crease|blot|&\\w.?|plant)\\}', \"\", s)\n",
    "            # simplification: remaining tags in curly brackets\n",
    "            s = re.sub(r'\\{[^\\{\\}]+?\\}', '', s)\n",
    "\n",
    "            # special case .{\\} is still a word break\n",
    "            s = re.sub(r'\\.\\{\\\\\\}', \".\", s)\n",
    "\n",
    "            # split on word boundaries\n",
    "            # exclude null words ('')\n",
    "            words = [str(w) for w in s.split(\".\") if w]\n",
    "            paragraph = ' '.join(words).lstrip()\n",
    "            \n",
    "            index[pg] += (paragraph)\n",
    "\n",
    "    return index\n"
   ]
  },
  {
   "cell_type": "code",
   "execution_count": 4,
   "metadata": {},
   "outputs": [],
   "source": [
    "def print_top_words(model, feature_names, n_top_words):\n",
    "    for topic_idx, topic in enumerate(model.components_):\n",
    "        print(\"\\nTopic #%d:\" % topic_idx)\n",
    "        print(\" \".join([feature_names[i]\n",
    "                        for i in topic.argsort()[:-n_top_words - 1:-1]]))\n",
    "    print()"
   ]
  },
  {
   "cell_type": "markdown",
   "metadata": {},
   "source": [
    "## Load Voynich Data\n",
    "\n",
    "Load the Pickle files produced by vms_vectorize.py"
   ]
  },
  {
   "cell_type": "code",
   "execution_count": 5,
   "metadata": {},
   "outputs": [],
   "source": [
    "models_path = \"./models\"\n",
    "\n",
    "# load in the pickle files of stored models\n",
    "with open(\"{}/tfidf_vectorizer.pk\".format(models_path), \"rb\") as f:\n",
    "    tfidf_vectorizer = pickle.load(f)\n",
    "with open(\"{}/vms_tf.pk\".format(models_path), \"rb\") as f:\n",
    "    vms_tf = pickle.load(f)\n",
    "with open(\"{}/vms_mapping.pk\".format(models_path), \"rb\") as f:\n",
    "    vms_mapping = pickle.load(f)\n",
    "with open(\"{}/tf_vectorizer.pk\".format(models_path), \"rb\") as f:\n",
    "    tf_vectorizer = pickle.load(f)\n",
    "with open(\"{}/vms_tfidf.pk\".format(models_path), \"rb\") as f:\n",
    "    vms_tfidf = pickle.load(f)\n",
    "\n",
    "num_topics = 4\n",
    "\n",
    "index = tokenize(\"https://raw.githubusercontent.com/rachelbari/voynich-topic-modeling/master/data/text16e6.evt\")\n",
    "documents = [index[key] for key in index.keys()]\n",
    "\n",
    "#newsgroups = fetch_20newsgroups(remove=('headers', 'footers', 'quotes'))\n",
    "#docs_raw = newsgroups.data\n",
    "#print(len(docs_raw))"
   ]
  },
  {
   "cell_type": "code",
   "execution_count": 6,
   "metadata": {},
   "outputs": [
    {
     "name": "stdout",
     "output_type": "stream",
     "text": [
      "     folio\n",
      "0      f1r\n",
      "1      f1v\n",
      "2      f2r\n",
      "3      f2v\n",
      "4      f3r\n",
      "..     ...\n",
      "220  f114r\n",
      "221  f114v\n",
      "222  f115r\n",
      "223  f115v\n",
      "224  f116r\n",
      "\n",
      "[225 rows x 1 columns]\n",
      "['f1r', 'f1v', 'f2r', 'f2v', 'f3r', 'f3v', 'f4r', 'f4v', 'f5r', 'f5v', 'f6r', 'f6v', 'f7r', 'f7v', 'f8r', 'f8v', 'f9r', 'f9v', 'f10r', 'f10v', 'f11r', 'f11v', 'f13r', 'f13v', 'f14r', 'f14v', 'f15r', 'f15v', 'f16r', 'f16v', 'f17r', 'f17v', 'f18r', 'f18v', 'f19r', 'f19v', 'f20r', 'f20v', 'f21r', 'f21v', 'f22r', 'f22v', 'f23r', 'f23v', 'f24r', 'f24v', 'f25r', 'f25v', 'f26r', 'f26v', 'f27r', 'f27v', 'f28r', 'f28v', 'f29r', 'f29v', 'f30r', 'f30v', 'f31r', 'f31v', 'f32r', 'f32v', 'f33r', 'f33v', 'f34r', 'f34v', 'f35r', 'f35v', 'f36r', 'f36v', 'f37r', 'f37v', 'f38r', 'f38v', 'f39r', 'f39v', 'f40r', 'f40v', 'f41r', 'f41v', 'f42r', 'f42v', 'f43r', 'f43v', 'f44r', 'f44v', 'f45r', 'f45v', 'f46r', 'f46v', 'f47r', 'f47v', 'f48r', 'f48v', 'f49r', 'f49v', 'f50r', 'f50v', 'f51r', 'f51v', 'f52r', 'f52v', 'f53r', 'f53v', 'f54r', 'f54v', 'f55r', 'f55v', 'f56r', 'f56v', 'f57r', 'f57v', 'f58r', 'f58v', 'f65r', 'f65v', 'f66r', 'f66v', 'f67r1', 'f67r2', 'f67v2', 'f67v1', 'f68r1', 'f68r2', 'f68r3', 'f68v3', 'f68v2', 'f68v1', 'f69r', 'f69v', 'f70r1', 'f70r2', 'f70v2', 'f70v1', 'f71r', 'f71v', 'f72r1', 'f72r2', 'f72r3', 'f72v3', 'f72v2', 'f72v1', 'f73r', 'f73v', 'f75r', 'f75v', 'f76r', 'f76v', 'f77r', 'f77v', 'f78r', 'f78v', 'f79r', 'f79v', 'f80r', 'f80v', 'f81r', 'f81v', 'f82r', 'f82v', 'f83r', 'f83v', 'f84r', 'f84v', 'f85r1', 'f85r2', 'f86v4', 'f86v6', 'f86v5', 'f86v3', 'f87r', 'f87v', 'f88r', 'f88v', 'f89r1', 'f89r2', 'f89v2', 'f89v1', 'f90r1', 'f90r2', 'f90v2', 'f90v1', 'f93r', 'f93v', 'f94r', 'f94v', 'f95r1', 'f95r2', 'f95v2', 'f95v1', 'f96r', 'f96v', 'f99r', 'f99v', 'f100r', 'f100v', 'f101r1', 'f101v2', 'f102r1', 'f102r2', 'f102v2', 'f102v1', 'f103r', 'f103v', 'f104r', 'f104v', 'f105r', 'f105v', 'f106r', 'f106v', 'f107r', 'f107v', 'f108r', 'f108v', 'f111r', 'f111v', 'f112r', 'f112v', 'f113r', 'f113v', 'f114r', 'f114v', 'f115r', 'f115v', 'f116r']\n"
     ]
    }
   ],
   "source": [
    "# make a dataframe of mapping material\n",
    "map_df = pd.DataFrame(vms_mapping, columns=['folio'])\n",
    "print(map_df)\n",
    "print(vms_mapping)\n"
   ]
  },
  {
   "cell_type": "markdown",
   "metadata": {},
   "source": [
    "## Fit NMF models"
   ]
  },
  {
   "cell_type": "code",
   "execution_count": 7,
   "metadata": {},
   "outputs": [
    {
     "name": "stdout",
     "output_type": "stream",
     "text": [
      "\n",
      "Topic #0:\n",
      "shedy chedy qokeedy qokain qokedy ol qokeey qol qokal shey\n",
      "\n",
      "Topic #1:\n",
      "daiin chol chor chy shol cthy sho shor dain cthor\n",
      "\n",
      "Topic #2:\n",
      "aiin ar al or okaiin okar chdy otaiin chedy qokaiin\n",
      "\n",
      "Topic #3:\n",
      "okeol cheol ol qokeol or cheor daiin chol okeey ckhey\n",
      "\n"
     ]
    }
   ],
   "source": [
    "# for TF\n",
    "#nmf_tf = LatentDirichletAllocation(n_topics=num_topics, random_state=0, max_iter=8)#, learning_method=\"online\", learning_offset=20.)\n",
    "#nmf_tf.fit(vms_tf)\n",
    "# for TFIDF\n",
    "nmf_tfidf = NMF(n_components=num_topics, random_state=1, alpha=.1, l1_ratio=.5, init='nndsvd')\n",
    "nmf_tfidf.fit(vms_tfidf)\n",
    "\n",
    "tfidf_feature_names = tfidf_vectorizer.get_feature_names()\n",
    "print_top_words(nmf_tfidf, tfidf_feature_names, 10)"
   ]
  },
  {
   "cell_type": "markdown",
   "metadata": {},
   "source": [
    "## Making sense of the data\n",
    "\n",
    "Using techniques from https://www.kaggle.com/xdsarkar/nips-papers-visualized-with-nmf-and-t-sne\n",
    "\n",
    "First, we transform the tfidf-matrix into an nmf-embedding, and look at which folios are most closely associated with each topic"
   ]
  },
  {
   "cell_type": "code",
   "execution_count": 15,
   "metadata": {
    "scrolled": false
   },
   "outputs": [
    {
     "name": "stdout",
     "output_type": "stream",
     "text": [
      "[[148 159 149 144]\n",
      " [ 80  18  27  90]\n",
      " [ 75 207 168 219]\n",
      " [199 201 175 196]]\n",
      "\n",
      "Topic 0:\n",
      "f75r\n",
      "f77v\n",
      "f82v\n",
      "f77r\n",
      "\n",
      "Topic 1:\n",
      "f47r\n",
      "f15v\n",
      "f10r\n",
      "f42r\n",
      "\n",
      "Topic 2:\n",
      "f113v\n",
      "f86v5\n",
      "f105v\n",
      "f39v\n",
      "\n",
      "Topic 3:\n",
      "f101r1\n",
      "f89r2\n",
      "f102v1\n",
      "f102r2\n"
     ]
    }
   ],
   "source": [
    "nmf_embedding = nmf_tfidf.transform(vms_tfidf)\n",
    "nmf_embedding = (nmf_embedding - nmf_embedding.mean(axis=0))/nmf_embedding.std(axis=0)\n",
    "\n",
    "top_idx = np.argsort(nmf_embedding,axis=0)[-4:]\n",
    "\n",
    "print(top_idx.T)\n",
    "\n",
    "count = 0\n",
    "for idxs in top_idx.T: \n",
    "    print(\"\\nTopic {}:\".format(count))\n",
    "    for idx in np.flip(idxs): # they're in reverse order\n",
    "        print(vms_mapping[idx])\n",
    "    count += 1\n"
   ]
  },
  {
   "cell_type": "markdown",
   "metadata": {},
   "source": [
    "### Visualize the results with t-SNE"
   ]
  },
  {
   "cell_type": "code",
   "execution_count": 9,
   "metadata": {},
   "outputs": [
    {
     "data": {
      "text/plain": [
       "<matplotlib.legend.Legend at 0x7f74a71ed650>"
      ]
     },
     "execution_count": 9,
     "metadata": {},
     "output_type": "execute_result"
    },
    {
     "data": {
      "image/png": "[encoded data removed]",
      "text/plain": [
       "<Figure size 576x576 with 1 Axes>"
      ]
     },
     "metadata": {
      "needs_background": "light"
     },
     "output_type": "display_data"
    }
   ],
   "source": [
    "# set your colormap here\n",
    "# https://matplotlib.org/3.1.1/gallery/color/colormap_reference.html\n",
    "colormap = \"Dark2\"\n",
    "\n",
    "# make a t-SNE embedding\n",
    "tsne = TSNE()#pass in int random_state for deterministic behavior\n",
    "tsne_embedding = tsne.fit_transform(nmf_embedding)\n",
    "tsne_embedding = pd.DataFrame(tsne_embedding,columns=['x','y'])\n",
    "\n",
    "# get the colors to put in the legend\n",
    "cmap = matplotlib.cm.get_cmap(colormap)\n",
    "color_list = cmap(range(0, num_topics))\n",
    "legend_list, topics = [], []\n",
    "for i in range(num_topics): \n",
    "    legend_list.append(mpatches.Ellipse((0,0), 1, 1, fc=color_list[i]))\n",
    "    topics.append(\"Topic \"+str(i))\n",
    "# now force these colors to be used in the plot\n",
    "tsne_color = []\n",
    "for i in nmf_embedding.argmax(axis=1): tsne_color.append(color_list[i])\n",
    "tsne_embedding = tsne_embedding.assign(color= tsne_color)\n",
    "\n",
    "# plot!\n",
    "fig = plt.figure(figsize=(8,8))\n",
    "ax = plt.gca()\n",
    "ax.axis('off')\n",
    "ax.scatter(x=tsne_embedding['x'], y=tsne_embedding['y'], s=6, c=tsne_embedding['color'])\n",
    "fig.legend(legend_list, topics, loc=(0.1, 0.79))"
   ]
  },
  {
   "cell_type": "code",
   "execution_count": null,
   "metadata": {},
   "outputs": [],
   "source": []
  },
  {
   "cell_type": "code",
   "execution_count": null,
   "metadata": {},
   "outputs": [],
   "source": []
  },
  {
   "cell_type": "code",
   "execution_count": null,
   "metadata": {},
   "outputs": [],
   "source": []
  }
 ],
 "metadata": {
  "kernelspec": {
   "display_name": "Python 3",
   "language": "python",
   "name": "python3"
  },
  "language_info": {
   "codemirror_mode": {
    "name": "ipython",
    "version": 3
   },
   "file_extension": ".py",
   "mimetype": "text/x-python",
   "name": "python",
   "nbconvert_exporter": "python",
   "pygments_lexer": "ipython3",
   "version": "3.7.4"
  }
 },
 "nbformat": 4,
 "nbformat_minor": 1
}
